{
 "cells": [
  {
   "cell_type": "markdown",
   "metadata": {
    "colab_type": "text",
    "id": "view-in-github"
   },
   "source": [
    "<a href=\"https://colab.research.google.com/github/sherylla/UCB_Final_Project/blob/will_barnes/finproj_segment2.ipynb\" target=\"_parent\"><img src=\"https://colab.research.google.com/assets/colab-badge.svg\" alt=\"Open In Colab\"/></a>"
   ]
  },
  {
   "cell_type": "code",
   "execution_count": 57,
   "metadata": {
    "colab": {
     "base_uri": "https://localhost:8080/",
     "height": 34
    },
    "colab_type": "code",
    "id": "d5fdpRv0FvBw",
    "outputId": "6085cd2d-d551-4af9-9bab-cbe958132357"
   },
   "outputs": [
    {
     "data": {
      "text/plain": [
       "'NOTE THAT THIS WAS MEANT TO BE RUN IN GOOGLE COLLAB - \\nIF YOU WOULD LIKE A LINK TO THE NOTEBOOK IN GOOGLE COLLAB, IT IS PASTED BELOW\\nhttps://colab.research.google.com/drive/1z7OY51sPc1xl17AQ999G01sGf8PKrBr_?usp=sharing'"
      ]
     },
     "execution_count": 57,
     "metadata": {
      "tags": []
     },
     "output_type": "execute_result"
    }
   ],
   "source": [
    "'''NOTE THAT THIS WAS MEANT TO BE RUN IN GOOGLE COLLAB - \n",
    "IF YOU WOULD LIKE A LINK TO THE NOTEBOOK IN GOOGLE COLLAB, IT IS PASTED BELOW\n",
    "https://colab.research.google.com/drive/1z7OY51sPc1xl17AQ999G01sGf8PKrBr_?usp=sharing'''"
   ]
  },
  {
   "cell_type": "markdown",
   "metadata": {
    "colab_type": "text",
    "id": "HnU8keRDw6SF"
   },
   "source": [
    "Description of the Data:\n",
    "\n",
    "\n",
    "1. Preliminary Data Preprocessing \n",
    "\n",
    "The data was retrieved from a SQL table housed in the cloud via Postgres. \n",
    "The data was loaded into Postgres as two separate data frames. \n",
    "The data was then converted each into their own  table.\n",
    "The red wine dataframe was given a new column with a value of 0, while the white dataframe was given a new column with a value of 1, to indicate the type of the wine (red or white).\n",
    "The data was then combined into a singular dataframe. \n",
    "The data was then retrieved in Python.\n",
    "\n",
    "2. Preliminary Feature Engineering \n",
    "\n",
    "There did not need to be any changes to the data types of the features, as they were already numeric. However, I did scale the data using the standard scaler set. \n",
    "\n",
    "3. Preliminary feature Selection\n",
    "\n",
    "I conducted a PCA analysis to find the most accurate model based on the number of components. See below in the analysis for details, but it found that the model was most accurate with nine features, so I used the 9 features. \n",
    "\n",
    "4. How data was split into training and testing sets \n",
    "\n",
    "The data was split into training and testing sets using stratification, meaning it would mirror the breakdown present in the existing dataset. \n",
    "\n",
    "5. Explanation of model choice,\n",
    "\n",
    "We selected a logistic regression model because we are trying to predict a binary outcome - if the wine is quality or not. \n",
    "Additionally, we tried all methods available to increase accuracy - random over/under sampling, SMOTE, SMOTEEN, but all yieleded lower accuracy scores than without, so none should be used. \n",
    "\n",
    "\n"
   ]
  },
  {
   "cell_type": "code",
   "execution_count": 3,
   "metadata": {
    "colab": {},
    "colab_type": "code",
    "id": "eDEK6fuwJshK"
   },
   "outputs": [],
   "source": [
    "import psycopg2\n",
    "import matplotlib.pyplot as plt\n",
    "import pandas as pd\n",
    "from pathlib import Path\n",
    "from sklearn.datasets import make_blobs\n",
    "from sklearn.model_selection import train_test_split\n",
    "from sklearn.linear_model import LogisticRegression\n",
    "from sklearn.preprocessing import StandardScaler\n",
    "\n"
   ]
  },
  {
   "cell_type": "code",
   "execution_count": 4,
   "metadata": {
    "colab": {
     "base_uri": "https://localhost:8080/",
     "height": 34
    },
    "colab_type": "code",
    "id": "x66mGrTqR2yR",
    "outputId": "c8cf2a44-92d3-48a8-d896-d72f531f5a8c"
   },
   "outputs": [
    {
     "data": {
      "text/plain": [
       "'DATA LOADING'"
      ]
     },
     "execution_count": 4,
     "metadata": {},
     "output_type": "execute_result"
    }
   ],
   "source": [
    "'DATA LOADING'\n"
   ]
  },
  {
   "cell_type": "code",
   "execution_count": 5,
   "metadata": {
    "colab": {},
    "colab_type": "code",
    "id": "qkeAE7cPRUDj"
   },
   "outputs": [],
   "source": [
    "connection = psycopg2.connect(\n",
    "    host = 'localhost',\n",
    "    port = 5432,\n",
    "    user = 'postgres',\n",
    "    password = '',\n",
    "    database='project'\n",
    "    )\n",
    "cursor=connection.cursor()"
   ]
  },
  {
   "cell_type": "code",
   "execution_count": 6,
   "metadata": {
    "colab": {},
    "colab_type": "code",
    "id": "_ji_h2RQRb3y"
   },
   "outputs": [],
   "source": [
    "sql = \"\"\"\n",
    "select wt.wine_name, wq.wine_code, wq.quality, wq.fixed_acidity, wq.volatile_acidity, wq.citric_acid, wq.residual_sugar, wq.chlorides, wq.free_sulfur_dioxide, wq.total_sulfur_dioxide, wq.density, wq.ph, wq.sulphates, wq.alcohol from \"Wine_Quality\" wq, \"Wine_Type\" wt where wq.wine_code = wt.wine_code \n",
    "\"\"\"\n",
    "df_combo_raw = pd.read_sql(sql, con=connection)"
   ]
  },
  {
   "cell_type": "code",
   "execution_count": null,
   "metadata": {
    "colab": {},
    "colab_type": "code",
    "id": "sB646kMaRi8n"
   },
   "outputs": [],
   "source": []
  },
  {
   "cell_type": "code",
   "execution_count": 7,
   "metadata": {
    "colab": {
     "base_uri": "https://localhost:8080/",
     "height": 204
    },
    "colab_type": "code",
    "id": "YlZkr9PNFvCM",
    "outputId": "d34489b2-38b4-4b28-e5f3-5cf6341ba22a",
    "scrolled": true
   },
   "outputs": [
    {
     "data": {
      "text/html": [
       "<div>\n",
       "<style scoped>\n",
       "    .dataframe tbody tr th:only-of-type {\n",
       "        vertical-align: middle;\n",
       "    }\n",
       "\n",
       "    .dataframe tbody tr th {\n",
       "        vertical-align: top;\n",
       "    }\n",
       "\n",
       "    .dataframe thead th {\n",
       "        text-align: right;\n",
       "    }\n",
       "</style>\n",
       "<table border=\"1\" class=\"dataframe\">\n",
       "  <thead>\n",
       "    <tr style=\"text-align: right;\">\n",
       "      <th></th>\n",
       "      <th>wine_name</th>\n",
       "      <th>wine_code</th>\n",
       "      <th>quality</th>\n",
       "      <th>fixed_acidity</th>\n",
       "      <th>volatile_acidity</th>\n",
       "      <th>citric_acid</th>\n",
       "      <th>residual_sugar</th>\n",
       "      <th>chlorides</th>\n",
       "      <th>free_sulfur_dioxide</th>\n",
       "      <th>total_sulfur_dioxide</th>\n",
       "      <th>density</th>\n",
       "      <th>ph</th>\n",
       "      <th>sulphates</th>\n",
       "      <th>alcohol</th>\n",
       "    </tr>\n",
       "  </thead>\n",
       "  <tbody>\n",
       "    <tr>\n",
       "      <th>0</th>\n",
       "      <td>Red</td>\n",
       "      <td>0</td>\n",
       "      <td>5</td>\n",
       "      <td>7.4</td>\n",
       "      <td>0.70</td>\n",
       "      <td>0.00</td>\n",
       "      <td>1.9</td>\n",
       "      <td>0.076</td>\n",
       "      <td>11.0</td>\n",
       "      <td>34.0</td>\n",
       "      <td>0.9978</td>\n",
       "      <td>3.51</td>\n",
       "      <td>0.56</td>\n",
       "      <td>9.4</td>\n",
       "    </tr>\n",
       "    <tr>\n",
       "      <th>1</th>\n",
       "      <td>Red</td>\n",
       "      <td>0</td>\n",
       "      <td>5</td>\n",
       "      <td>7.8</td>\n",
       "      <td>0.88</td>\n",
       "      <td>0.00</td>\n",
       "      <td>2.6</td>\n",
       "      <td>0.098</td>\n",
       "      <td>25.0</td>\n",
       "      <td>67.0</td>\n",
       "      <td>0.9968</td>\n",
       "      <td>3.20</td>\n",
       "      <td>0.68</td>\n",
       "      <td>9.8</td>\n",
       "    </tr>\n",
       "    <tr>\n",
       "      <th>2</th>\n",
       "      <td>Red</td>\n",
       "      <td>0</td>\n",
       "      <td>5</td>\n",
       "      <td>7.8</td>\n",
       "      <td>0.76</td>\n",
       "      <td>0.04</td>\n",
       "      <td>2.3</td>\n",
       "      <td>0.092</td>\n",
       "      <td>15.0</td>\n",
       "      <td>54.0</td>\n",
       "      <td>0.9970</td>\n",
       "      <td>3.26</td>\n",
       "      <td>0.65</td>\n",
       "      <td>9.8</td>\n",
       "    </tr>\n",
       "    <tr>\n",
       "      <th>3</th>\n",
       "      <td>Red</td>\n",
       "      <td>0</td>\n",
       "      <td>6</td>\n",
       "      <td>11.2</td>\n",
       "      <td>0.28</td>\n",
       "      <td>0.56</td>\n",
       "      <td>1.9</td>\n",
       "      <td>0.075</td>\n",
       "      <td>17.0</td>\n",
       "      <td>60.0</td>\n",
       "      <td>0.9980</td>\n",
       "      <td>3.16</td>\n",
       "      <td>0.58</td>\n",
       "      <td>9.8</td>\n",
       "    </tr>\n",
       "    <tr>\n",
       "      <th>4</th>\n",
       "      <td>Red</td>\n",
       "      <td>0</td>\n",
       "      <td>5</td>\n",
       "      <td>7.4</td>\n",
       "      <td>0.70</td>\n",
       "      <td>0.00</td>\n",
       "      <td>1.9</td>\n",
       "      <td>0.076</td>\n",
       "      <td>11.0</td>\n",
       "      <td>34.0</td>\n",
       "      <td>0.9978</td>\n",
       "      <td>3.51</td>\n",
       "      <td>0.56</td>\n",
       "      <td>9.4</td>\n",
       "    </tr>\n",
       "  </tbody>\n",
       "</table>\n",
       "</div>"
      ],
      "text/plain": [
       "  wine_name  wine_code  quality  fixed_acidity  volatile_acidity  citric_acid  \\\n",
       "0       Red          0        5            7.4              0.70         0.00   \n",
       "1       Red          0        5            7.8              0.88         0.00   \n",
       "2       Red          0        5            7.8              0.76         0.04   \n",
       "3       Red          0        6           11.2              0.28         0.56   \n",
       "4       Red          0        5            7.4              0.70         0.00   \n",
       "\n",
       "   residual_sugar  chlorides  free_sulfur_dioxide  total_sulfur_dioxide  \\\n",
       "0             1.9      0.076                 11.0                  34.0   \n",
       "1             2.6      0.098                 25.0                  67.0   \n",
       "2             2.3      0.092                 15.0                  54.0   \n",
       "3             1.9      0.075                 17.0                  60.0   \n",
       "4             1.9      0.076                 11.0                  34.0   \n",
       "\n",
       "   density    ph  sulphates  alcohol  \n",
       "0   0.9978  3.51       0.56      9.4  \n",
       "1   0.9968  3.20       0.68      9.8  \n",
       "2   0.9970  3.26       0.65      9.8  \n",
       "3   0.9980  3.16       0.58      9.8  \n",
       "4   0.9978  3.51       0.56      9.4  "
      ]
     },
     "execution_count": 7,
     "metadata": {},
     "output_type": "execute_result"
    }
   ],
   "source": [
    "#sanity check it\n",
    "df_combo_raw.head()"
   ]
  },
  {
   "cell_type": "code",
   "execution_count": 8,
   "metadata": {
    "colab": {
     "base_uri": "https://localhost:8080/",
     "height": 255
    },
    "colab_type": "code",
    "id": "89maSeUIFvCP",
    "outputId": "4b6c720e-2f10-49f7-b551-a70ad234addf"
   },
   "outputs": [
    {
     "data": {
      "text/plain": [
       "wine_name                object\n",
       "wine_code                 int64\n",
       "quality                   int64\n",
       "fixed_acidity           float64\n",
       "volatile_acidity        float64\n",
       "citric_acid             float64\n",
       "residual_sugar          float64\n",
       "chlorides               float64\n",
       "free_sulfur_dioxide     float64\n",
       "total_sulfur_dioxide    float64\n",
       "density                 float64\n",
       "ph                      float64\n",
       "sulphates               float64\n",
       "alcohol                 float64\n",
       "dtype: object"
      ]
     },
     "execution_count": 8,
     "metadata": {},
     "output_type": "execute_result"
    }
   ],
   "source": [
    "#check types of data - good, all numbers\n",
    "df_combo_raw.dtypes"
   ]
  },
  {
   "cell_type": "code",
   "execution_count": 9,
   "metadata": {
    "colab": {
     "base_uri": "https://localhost:8080/",
     "height": 255
    },
    "colab_type": "code",
    "id": "ILPq_LcKFvCR",
    "outputId": "fcf9f4e7-dc00-42d0-89c8-e47ab7682c50"
   },
   "outputs": [
    {
     "name": "stdout",
     "output_type": "stream",
     "text": [
      "wine_name               0\n",
      "wine_code               0\n",
      "quality                 0\n",
      "fixed_acidity           0\n",
      "volatile_acidity        0\n",
      "citric_acid             0\n",
      "residual_sugar          0\n",
      "chlorides               0\n",
      "free_sulfur_dioxide     0\n",
      "total_sulfur_dioxide    0\n",
      "density                 0\n",
      "ph                      0\n",
      "sulphates               0\n",
      "alcohol                 0\n",
      "dtype: int64\n"
     ]
    }
   ],
   "source": [
    "#check for missing values\n",
    "count_nan = len(df_combo_raw) - df_combo_raw.count()\n",
    "print(count_nan)"
   ]
  },
  {
   "cell_type": "code",
   "execution_count": 10,
   "metadata": {
    "colab": {
     "base_uri": "https://localhost:8080/",
     "height": 297
    },
    "colab_type": "code",
    "id": "d8Y8GEmaFvCU",
    "outputId": "449de752-9eea-4096-a78e-2d43e55bf320"
   },
   "outputs": [
    {
     "data": {
      "text/html": [
       "<div>\n",
       "<style scoped>\n",
       "    .dataframe tbody tr th:only-of-type {\n",
       "        vertical-align: middle;\n",
       "    }\n",
       "\n",
       "    .dataframe tbody tr th {\n",
       "        vertical-align: top;\n",
       "    }\n",
       "\n",
       "    .dataframe thead th {\n",
       "        text-align: right;\n",
       "    }\n",
       "</style>\n",
       "<table border=\"1\" class=\"dataframe\">\n",
       "  <thead>\n",
       "    <tr style=\"text-align: right;\">\n",
       "      <th></th>\n",
       "      <th>wine_name</th>\n",
       "      <th>wine_code</th>\n",
       "      <th>fixed_acidity</th>\n",
       "      <th>volatile_acidity</th>\n",
       "      <th>citric_acid</th>\n",
       "      <th>residual_sugar</th>\n",
       "      <th>chlorides</th>\n",
       "      <th>free_sulfur_dioxide</th>\n",
       "      <th>total_sulfur_dioxide</th>\n",
       "      <th>density</th>\n",
       "      <th>ph</th>\n",
       "      <th>sulphates</th>\n",
       "      <th>alcohol</th>\n",
       "    </tr>\n",
       "    <tr>\n",
       "      <th>quality</th>\n",
       "      <th></th>\n",
       "      <th></th>\n",
       "      <th></th>\n",
       "      <th></th>\n",
       "      <th></th>\n",
       "      <th></th>\n",
       "      <th></th>\n",
       "      <th></th>\n",
       "      <th></th>\n",
       "      <th></th>\n",
       "      <th></th>\n",
       "      <th></th>\n",
       "      <th></th>\n",
       "    </tr>\n",
       "  </thead>\n",
       "  <tbody>\n",
       "    <tr>\n",
       "      <th>3</th>\n",
       "      <td>30</td>\n",
       "      <td>30</td>\n",
       "      <td>30</td>\n",
       "      <td>30</td>\n",
       "      <td>30</td>\n",
       "      <td>30</td>\n",
       "      <td>30</td>\n",
       "      <td>30</td>\n",
       "      <td>30</td>\n",
       "      <td>30</td>\n",
       "      <td>30</td>\n",
       "      <td>30</td>\n",
       "      <td>30</td>\n",
       "    </tr>\n",
       "    <tr>\n",
       "      <th>4</th>\n",
       "      <td>216</td>\n",
       "      <td>216</td>\n",
       "      <td>216</td>\n",
       "      <td>216</td>\n",
       "      <td>216</td>\n",
       "      <td>216</td>\n",
       "      <td>216</td>\n",
       "      <td>216</td>\n",
       "      <td>216</td>\n",
       "      <td>216</td>\n",
       "      <td>216</td>\n",
       "      <td>216</td>\n",
       "      <td>216</td>\n",
       "    </tr>\n",
       "    <tr>\n",
       "      <th>5</th>\n",
       "      <td>2138</td>\n",
       "      <td>2138</td>\n",
       "      <td>2138</td>\n",
       "      <td>2138</td>\n",
       "      <td>2138</td>\n",
       "      <td>2138</td>\n",
       "      <td>2138</td>\n",
       "      <td>2138</td>\n",
       "      <td>2138</td>\n",
       "      <td>2138</td>\n",
       "      <td>2138</td>\n",
       "      <td>2138</td>\n",
       "      <td>2138</td>\n",
       "    </tr>\n",
       "    <tr>\n",
       "      <th>6</th>\n",
       "      <td>2836</td>\n",
       "      <td>2836</td>\n",
       "      <td>2836</td>\n",
       "      <td>2836</td>\n",
       "      <td>2836</td>\n",
       "      <td>2836</td>\n",
       "      <td>2836</td>\n",
       "      <td>2836</td>\n",
       "      <td>2836</td>\n",
       "      <td>2836</td>\n",
       "      <td>2836</td>\n",
       "      <td>2836</td>\n",
       "      <td>2836</td>\n",
       "    </tr>\n",
       "    <tr>\n",
       "      <th>7</th>\n",
       "      <td>1079</td>\n",
       "      <td>1079</td>\n",
       "      <td>1079</td>\n",
       "      <td>1079</td>\n",
       "      <td>1079</td>\n",
       "      <td>1079</td>\n",
       "      <td>1079</td>\n",
       "      <td>1079</td>\n",
       "      <td>1079</td>\n",
       "      <td>1079</td>\n",
       "      <td>1079</td>\n",
       "      <td>1079</td>\n",
       "      <td>1079</td>\n",
       "    </tr>\n",
       "    <tr>\n",
       "      <th>8</th>\n",
       "      <td>193</td>\n",
       "      <td>193</td>\n",
       "      <td>193</td>\n",
       "      <td>193</td>\n",
       "      <td>193</td>\n",
       "      <td>193</td>\n",
       "      <td>193</td>\n",
       "      <td>193</td>\n",
       "      <td>193</td>\n",
       "      <td>193</td>\n",
       "      <td>193</td>\n",
       "      <td>193</td>\n",
       "      <td>193</td>\n",
       "    </tr>\n",
       "    <tr>\n",
       "      <th>9</th>\n",
       "      <td>5</td>\n",
       "      <td>5</td>\n",
       "      <td>5</td>\n",
       "      <td>5</td>\n",
       "      <td>5</td>\n",
       "      <td>5</td>\n",
       "      <td>5</td>\n",
       "      <td>5</td>\n",
       "      <td>5</td>\n",
       "      <td>5</td>\n",
       "      <td>5</td>\n",
       "      <td>5</td>\n",
       "      <td>5</td>\n",
       "    </tr>\n",
       "  </tbody>\n",
       "</table>\n",
       "</div>"
      ],
      "text/plain": [
       "         wine_name  wine_code  fixed_acidity  volatile_acidity  citric_acid  \\\n",
       "quality                                                                       \n",
       "3               30         30             30                30           30   \n",
       "4              216        216            216               216          216   \n",
       "5             2138       2138           2138              2138         2138   \n",
       "6             2836       2836           2836              2836         2836   \n",
       "7             1079       1079           1079              1079         1079   \n",
       "8              193        193            193               193          193   \n",
       "9                5          5              5                 5            5   \n",
       "\n",
       "         residual_sugar  chlorides  free_sulfur_dioxide  total_sulfur_dioxide  \\\n",
       "quality                                                                         \n",
       "3                    30         30                   30                    30   \n",
       "4                   216        216                  216                   216   \n",
       "5                  2138       2138                 2138                  2138   \n",
       "6                  2836       2836                 2836                  2836   \n",
       "7                  1079       1079                 1079                  1079   \n",
       "8                   193        193                  193                   193   \n",
       "9                     5          5                    5                     5   \n",
       "\n",
       "         density    ph  sulphates  alcohol  \n",
       "quality                                     \n",
       "3             30    30         30       30  \n",
       "4            216   216        216      216  \n",
       "5           2138  2138       2138     2138  \n",
       "6           2836  2836       2836     2836  \n",
       "7           1079  1079       1079     1079  \n",
       "8            193   193        193      193  \n",
       "9              5     5          5        5  "
      ]
     },
     "execution_count": 10,
     "metadata": {},
     "output_type": "execute_result"
    }
   ],
   "source": [
    "#check for number of quality targets - each wine has a quality score between 3 and 9\n",
    "df_combo_raw.groupby(['quality']).count().head(20)"
   ]
  },
  {
   "cell_type": "code",
   "execution_count": 11,
   "metadata": {
    "colab": {
     "base_uri": "https://localhost:8080/",
     "height": 315
    },
    "colab_type": "code",
    "id": "Iji8D9aHaT4s",
    "outputId": "a52d7074-ea66-4eef-b5eb-842e7e80ca40"
   },
   "outputs": [
    {
     "data": {
      "text/plain": [
       "array([[<matplotlib.axes._subplots.AxesSubplot object at 0x0000024523FE3AC8>]],\n",
       "      dtype=object)"
      ]
     },
     "execution_count": 11,
     "metadata": {},
     "output_type": "execute_result"
    },
    {
     "data": {
      "image/png": "[encoded data removed]",
      "text/plain": [
       "<Figure size 432x288 with 1 Axes>"
      ]
     },
     "metadata": {
      "needs_background": "light"
     },
     "output_type": "display_data"
    }
   ],
   "source": [
    "df_combo_raw.hist(column='quality')\n"
   ]
  },
  {
   "cell_type": "code",
   "execution_count": 12,
   "metadata": {
    "colab": {
     "base_uri": "https://localhost:8080/",
     "height": 142
    },
    "colab_type": "code",
    "id": "xCBX9KVsFvCX",
    "outputId": "42d8a48c-3976-4cba-cad2-ab41e0b8226f"
   },
   "outputs": [
    {
     "data": {
      "text/html": [
       "<div>\n",
       "<style scoped>\n",
       "    .dataframe tbody tr th:only-of-type {\n",
       "        vertical-align: middle;\n",
       "    }\n",
       "\n",
       "    .dataframe tbody tr th {\n",
       "        vertical-align: top;\n",
       "    }\n",
       "\n",
       "    .dataframe thead th {\n",
       "        text-align: right;\n",
       "    }\n",
       "</style>\n",
       "<table border=\"1\" class=\"dataframe\">\n",
       "  <thead>\n",
       "    <tr style=\"text-align: right;\">\n",
       "      <th></th>\n",
       "      <th>wine_name</th>\n",
       "      <th>wine_code</th>\n",
       "      <th>fixed_acidity</th>\n",
       "      <th>volatile_acidity</th>\n",
       "      <th>citric_acid</th>\n",
       "      <th>residual_sugar</th>\n",
       "      <th>chlorides</th>\n",
       "      <th>free_sulfur_dioxide</th>\n",
       "      <th>total_sulfur_dioxide</th>\n",
       "      <th>density</th>\n",
       "      <th>ph</th>\n",
       "      <th>sulphates</th>\n",
       "      <th>alcohol</th>\n",
       "    </tr>\n",
       "    <tr>\n",
       "      <th>quality</th>\n",
       "      <th></th>\n",
       "      <th></th>\n",
       "      <th></th>\n",
       "      <th></th>\n",
       "      <th></th>\n",
       "      <th></th>\n",
       "      <th></th>\n",
       "      <th></th>\n",
       "      <th></th>\n",
       "      <th></th>\n",
       "      <th></th>\n",
       "      <th></th>\n",
       "      <th></th>\n",
       "    </tr>\n",
       "  </thead>\n",
       "  <tbody>\n",
       "    <tr>\n",
       "      <th>0</th>\n",
       "      <td>2384</td>\n",
       "      <td>2384</td>\n",
       "      <td>2384</td>\n",
       "      <td>2384</td>\n",
       "      <td>2384</td>\n",
       "      <td>2384</td>\n",
       "      <td>2384</td>\n",
       "      <td>2384</td>\n",
       "      <td>2384</td>\n",
       "      <td>2384</td>\n",
       "      <td>2384</td>\n",
       "      <td>2384</td>\n",
       "      <td>2384</td>\n",
       "    </tr>\n",
       "    <tr>\n",
       "      <th>1</th>\n",
       "      <td>4113</td>\n",
       "      <td>4113</td>\n",
       "      <td>4113</td>\n",
       "      <td>4113</td>\n",
       "      <td>4113</td>\n",
       "      <td>4113</td>\n",
       "      <td>4113</td>\n",
       "      <td>4113</td>\n",
       "      <td>4113</td>\n",
       "      <td>4113</td>\n",
       "      <td>4113</td>\n",
       "      <td>4113</td>\n",
       "      <td>4113</td>\n",
       "    </tr>\n",
       "  </tbody>\n",
       "</table>\n",
       "</div>"
      ],
      "text/plain": [
       "         wine_name  wine_code  fixed_acidity  volatile_acidity  citric_acid  \\\n",
       "quality                                                                       \n",
       "0             2384       2384           2384              2384         2384   \n",
       "1             4113       4113           4113              4113         4113   \n",
       "\n",
       "         residual_sugar  chlorides  free_sulfur_dioxide  total_sulfur_dioxide  \\\n",
       "quality                                                                         \n",
       "0                  2384       2384                 2384                  2384   \n",
       "1                  4113       4113                 4113                  4113   \n",
       "\n",
       "         density    ph  sulphates  alcohol  \n",
       "quality                                     \n",
       "0           2384  2384       2384     2384  \n",
       "1           4113  4113       4113     4113  "
      ]
     },
     "execution_count": 12,
     "metadata": {},
     "output_type": "execute_result"
    }
   ],
   "source": [
    "# there are too many values for the target. I will change each target to be High Quality, a value of 1, or Low Quality, a value of 0. High quality sits between 7,8,9. Low Quality sits between 3,4,5,6\n",
    "df_copy = df_combo_raw.copy()\n",
    "df_copy.loc[(df_copy.quality < 6),'quality']=0\n",
    "df_copy.loc[(df_copy.quality > 5),'quality']=1\n",
    "\n",
    "df_copy.groupby(['quality']).count().head(20)\n"
   ]
  },
  {
   "cell_type": "code",
   "execution_count": 13,
   "metadata": {
    "colab": {},
    "colab_type": "code",
    "id": "kDt1nrJfFvCd"
   },
   "outputs": [],
   "source": [
    "#change the name of the DF for readability\n",
    "df_combo_cleaned = df_copy        "
   ]
  },
  {
   "cell_type": "code",
   "execution_count": 14,
   "metadata": {
    "colab": {
     "base_uri": "https://localhost:8080/",
     "height": 238
    },
    "colab_type": "code",
    "id": "UR9Sa8BfFvCi",
    "outputId": "47703d8f-f4da-4789-ea8d-4554e84f0916"
   },
   "outputs": [
    {
     "data": {
      "text/plain": [
       "array([[-1.75018984,  0.14247327,  2.18883292, ...,  1.81308951,\n",
       "         0.19309677, -0.91546416],\n",
       "       [-1.75018984,  0.45103572,  3.28223494, ..., -0.11507303,\n",
       "         0.99957862, -0.58006813],\n",
       "       [-1.75018984,  0.45103572,  2.55330026, ...,  0.25811972,\n",
       "         0.79795816, -0.58006813],\n",
       "       ...,\n",
       "       [ 0.57136659, -0.55179227, -0.6054167 , ..., -1.42124765,\n",
       "        -0.47897144, -0.91546416],\n",
       "       [ 0.57136659, -1.32319841, -0.30169391, ...,  0.75571005,\n",
       "        -1.016626  ,  1.9354021 ],\n",
       "       [ 0.57136659, -0.93749534, -0.78765037, ...,  0.25811972,\n",
       "        -1.41986693,  1.09691202]])"
      ]
     },
     "execution_count": 14,
     "metadata": {},
     "output_type": "execute_result"
    }
   ],
   "source": [
    "#scale the data\n",
    "data_scaler = StandardScaler()\n",
    "df_combo_scaled = data_scaler.fit_transform(df_combo_cleaned.drop(columns=[\"quality\", \"wine_name\"]))\n",
    "df_combo_scaled"
   ]
  },
  {
   "cell_type": "code",
   "execution_count": 15,
   "metadata": {
    "colab": {
     "base_uri": "https://localhost:8080/",
     "height": 51
    },
    "colab_type": "code",
    "id": "fC3v9jvtFvCo",
    "outputId": "de24b71e-a514-4e78-d23f-f4e0b1f98e00"
   },
   "outputs": [
    {
     "name": "stdout",
     "output_type": "stream",
     "text": [
      "1.049901533522697e-16\n",
      "0.9999999999999999\n"
     ]
    }
   ],
   "source": [
    "#check if data is scaled\n",
    "import numpy as np\n",
    "print(np.mean(df_combo_scaled[:,0]))\n",
    "print(np.std(df_combo_scaled[:,0]))"
   ]
  },
  {
   "cell_type": "code",
   "execution_count": 16,
   "metadata": {
    "colab": {
     "base_uri": "https://localhost:8080/",
     "height": 34
    },
    "colab_type": "code",
    "id": "CKzgBIaXFvCt",
    "outputId": "be14625f-ff8e-4afd-c847-563d08f67739"
   },
   "outputs": [
    {
     "data": {
      "text/plain": [
       "'MODEL CREATION'"
      ]
     },
     "execution_count": 16,
     "metadata": {},
     "output_type": "execute_result"
    }
   ],
   "source": [
    "'MODEL CREATION'"
   ]
  },
  {
   "cell_type": "code",
   "execution_count": null,
   "metadata": {
    "colab": {},
    "colab_type": "code",
    "id": "HOu0Z5d6FvCz"
   },
   "outputs": [],
   "source": []
  },
  {
   "cell_type": "code",
   "execution_count": 17,
   "metadata": {
    "colab": {},
    "colab_type": "code",
    "id": "gipFn1_GFvC5"
   },
   "outputs": [],
   "source": [
    "#define target and features\n",
    "y = df_combo_cleaned[\"quality\"]\n",
    "X = df_combo_scaled"
   ]
  },
  {
   "cell_type": "code",
   "execution_count": 18,
   "metadata": {
    "colab": {},
    "colab_type": "code",
    "id": "FnTKRKMMFvC8"
   },
   "outputs": [],
   "source": [
    "#train the data set\n",
    "X_train, X_test, y_train, y_test = train_test_split(X,\n",
    "   y, random_state=1, stratify=y)"
   ]
  },
  {
   "cell_type": "code",
   "execution_count": null,
   "metadata": {
    "colab": {},
    "colab_type": "code",
    "id": "oxGsGy899xu-"
   },
   "outputs": [],
   "source": [
    "\n"
   ]
  },
  {
   "cell_type": "code",
   "execution_count": null,
   "metadata": {
    "colab": {},
    "colab_type": "code",
    "id": "ErYgCGnD90ZN"
   },
   "outputs": [],
   "source": []
  },
  {
   "cell_type": "code",
   "execution_count": 19,
   "metadata": {
    "colab": {
     "base_uri": "https://localhost:8080/",
     "height": 119
    },
    "colab_type": "code",
    "id": "8_guEj5JyUlJ",
    "outputId": "0bf6373d-695f-4a98-a54f-12922069d575"
   },
   "outputs": [
    {
     "name": "stdout",
     "output_type": "stream",
     "text": [
      "(4872, 12)\n",
      "(4872, 12)\n",
      "(4872, 12)\n",
      "(4872, 12)\n",
      "(4872, 12)\n",
      "(4872, 12)\n"
     ]
    }
   ],
   "source": [
    "'''BEGIN SEGMENT TWO: PCA'''\n",
    "variance_list = [0.95,0.90,0.85,0.80,0.75,0.70]\n",
    "\n",
    "from sklearn.decomposition import PCA\n",
    "\n",
    "from sklearn import metrics\n",
    "\n",
    "benchmark_cols = ['Variance retained','n_Components','Accuracy_percentage']\n",
    "benchmark = pd.DataFrame(columns = benchmark_cols)\n",
    "\n",
    "def benchmark_pca(variance,train_img,train_lbl,test_img,test_lbl):\n",
    "    global benchmark\n",
    "    print(train_img.shape)\n",
    "    pca = PCA(variance)\n",
    "    pca.fit(train_img)\n",
    "    n_components = pca.n_components_\n",
    "    train_img = pca.transform(train_img)\n",
    "\n",
    "    # pca.fit(test_img)\n",
    "    test_img = pca.transform(test_img)\n",
    "    logisticRegr = LogisticRegression(solver = 'lbfgs')\n",
    "    #start = time.time()\n",
    "    logisticRegr.fit(train_img, train_lbl)\n",
    "    #end =  time.time()\n",
    " \n",
    "    #timing = end-start   \n",
    "\n",
    "    # Predict for Multiple Observations (images) at Once\n",
    "    predicted = logisticRegr.predict(test_img)   \n",
    "\n",
    "    # generate evaluation metrics\n",
    "    accuracy = (metrics.accuracy_score(test_lbl, predicted))\n",
    "    #return \n",
    "    a = dict(zip(benchmark_cols,[variance,n_components,accuracy]))\n",
    "    benchmark = benchmark.append(a,ignore_index=True)\n",
    "\n",
    "for variance in variance_list:\n",
    "    benchmark_pca(variance,X_train,y_train,X_test,y_test)"
   ]
  },
  {
   "cell_type": "code",
   "execution_count": 20,
   "metadata": {
    "colab": {
     "base_uri": "https://localhost:8080/",
     "height": 235
    },
    "colab_type": "code",
    "id": "iOKJJ3tJyetA",
    "outputId": "cf55a198-c7a8-4b9a-e38e-567f64bc3b0b"
   },
   "outputs": [
    {
     "data": {
      "text/html": [
       "<div>\n",
       "<style scoped>\n",
       "    .dataframe tbody tr th:only-of-type {\n",
       "        vertical-align: middle;\n",
       "    }\n",
       "\n",
       "    .dataframe tbody tr th {\n",
       "        vertical-align: top;\n",
       "    }\n",
       "\n",
       "    .dataframe thead th {\n",
       "        text-align: right;\n",
       "    }\n",
       "</style>\n",
       "<table border=\"1\" class=\"dataframe\">\n",
       "  <thead>\n",
       "    <tr style=\"text-align: right;\">\n",
       "      <th></th>\n",
       "      <th>Variance retained</th>\n",
       "      <th>n_Components</th>\n",
       "      <th>Accuracy_percentage</th>\n",
       "    </tr>\n",
       "  </thead>\n",
       "  <tbody>\n",
       "    <tr>\n",
       "      <th>0</th>\n",
       "      <td>0.95</td>\n",
       "      <td>9.0</td>\n",
       "      <td>0.730462</td>\n",
       "    </tr>\n",
       "    <tr>\n",
       "      <th>1</th>\n",
       "      <td>0.90</td>\n",
       "      <td>8.0</td>\n",
       "      <td>0.701538</td>\n",
       "    </tr>\n",
       "    <tr>\n",
       "      <th>2</th>\n",
       "      <td>0.85</td>\n",
       "      <td>6.0</td>\n",
       "      <td>0.697846</td>\n",
       "    </tr>\n",
       "    <tr>\n",
       "      <th>3</th>\n",
       "      <td>0.80</td>\n",
       "      <td>5.0</td>\n",
       "      <td>0.681231</td>\n",
       "    </tr>\n",
       "    <tr>\n",
       "      <th>4</th>\n",
       "      <td>0.75</td>\n",
       "      <td>5.0</td>\n",
       "      <td>0.681231</td>\n",
       "    </tr>\n",
       "    <tr>\n",
       "      <th>5</th>\n",
       "      <td>0.70</td>\n",
       "      <td>4.0</td>\n",
       "      <td>0.665846</td>\n",
       "    </tr>\n",
       "  </tbody>\n",
       "</table>\n",
       "</div>"
      ],
      "text/plain": [
       "   Variance retained  n_Components  Accuracy_percentage\n",
       "0               0.95           9.0             0.730462\n",
       "1               0.90           8.0             0.701538\n",
       "2               0.85           6.0             0.697846\n",
       "3               0.80           5.0             0.681231\n",
       "4               0.75           5.0             0.681231\n",
       "5               0.70           4.0             0.665846"
      ]
     },
     "execution_count": 20,
     "metadata": {},
     "output_type": "execute_result"
    }
   ],
   "source": [
    "benchmark"
   ]
  },
  {
   "cell_type": "code",
   "execution_count": 21,
   "metadata": {
    "colab": {
     "base_uri": "https://localhost:8080/",
     "height": 313
    },
    "colab_type": "code",
    "id": "8SCQRsbbyj72",
    "outputId": "4adfdffd-0446-4d6f-d34d-d077fbf5bad9"
   },
   "outputs": [
    {
     "data": {
      "text/plain": [
       "Text(0.5, 1.0, 'no of components vs accuracy')"
      ]
     },
     "execution_count": 21,
     "metadata": {},
     "output_type": "execute_result"
    },
    {
     "data": {
      "image/png": "[encoded data removed]",
      "text/plain": [
       "<Figure size 432x288 with 1 Axes>"
      ]
     },
     "metadata": {
      "needs_background": "light"
     },
     "output_type": "display_data"
    }
   ],
   "source": [
    "benchmark.plot(x=1,y=-1)\n",
    "plt.title(\"no of components vs accuracy\")"
   ]
  },
  {
   "cell_type": "code",
   "execution_count": 22,
   "metadata": {
    "colab": {},
    "colab_type": "code",
    "id": "_mwNdDPjyqAT"
   },
   "outputs": [],
   "source": [
    "from sklearn.pipeline import Pipeline\n",
    "pca = PCA(n_components=9)\n",
    "cls = LogisticRegression() \n",
    "pipe = Pipeline([('pca', pca), ('logistic', cls)])\n",
    "pipe.fit(X_train, y_train)\n",
    "predictions = pipe.predict(X_test)"
   ]
  },
  {
   "cell_type": "code",
   "execution_count": null,
   "metadata": {
    "colab": {},
    "colab_type": "code",
    "id": "nCFptHUIziLo"
   },
   "outputs": [],
   "source": []
  },
  {
   "cell_type": "code",
   "execution_count": null,
   "metadata": {
    "colab": {},
    "colab_type": "code",
    "id": "9ZemYwLv8MH6"
   },
   "outputs": [],
   "source": []
  },
  {
   "cell_type": "code",
   "execution_count": 23,
   "metadata": {
    "colab": {
     "base_uri": "https://localhost:8080/",
     "height": 34
    },
    "colab_type": "code",
    "id": "LNoNDurE0q1p",
    "outputId": "4f2cdcaa-32ed-4673-ad83-7eefb3c2d1c8"
   },
   "outputs": [
    {
     "name": "stdout",
     "output_type": "stream",
     "text": [
      "0.7304615384615385\n"
     ]
    }
   ],
   "source": [
    "from sklearn.metrics import accuracy_score\n",
    "print(accuracy_score(y_test, predictions))"
   ]
  },
  {
   "cell_type": "code",
   "execution_count": 24,
   "metadata": {
    "colab": {
     "base_uri": "https://localhost:8080/",
     "height": 51
    },
    "colab_type": "code",
    "id": "N7xNzdmy1KNo",
    "outputId": "9e6afb2f-8fc6-432a-a7c4-e7d3f23b735a"
   },
   "outputs": [
    {
     "name": "stdout",
     "output_type": "stream",
     "text": [
      "[[323 273]\n",
      " [165 864]]\n"
     ]
    }
   ],
   "source": [
    "from sklearn.metrics import confusion_matrix, classification_report\n",
    "matrix = confusion_matrix(y_test, predictions)\n",
    "print(matrix)"
   ]
  },
  {
   "cell_type": "code",
   "execution_count": 25,
   "metadata": {
    "colab": {
     "base_uri": "https://localhost:8080/",
     "height": 170
    },
    "colab_type": "code",
    "id": "dbZu-kAy1X5J",
    "outputId": "05440647-6966-4101-b9ca-2d382d0b1b8d"
   },
   "outputs": [
    {
     "name": "stdout",
     "output_type": "stream",
     "text": [
      "              precision    recall  f1-score   support\n",
      "\n",
      "           0       0.66      0.54      0.60       596\n",
      "           1       0.76      0.84      0.80      1029\n",
      "\n",
      "    accuracy                           0.73      1625\n",
      "   macro avg       0.71      0.69      0.70      1625\n",
      "weighted avg       0.72      0.73      0.72      1625\n",
      "\n"
     ]
    }
   ],
   "source": [
    "report = classification_report(y_test, predictions)\n",
    "print(report)"
   ]
  },
  {
   "cell_type": "code",
   "execution_count": 26,
   "metadata": {
    "colab": {
     "base_uri": "https://localhost:8080/",
     "height": 34
    },
    "colab_type": "code",
    "id": "ymBzMZI8-1xz",
    "outputId": "ecdf575d-99fe-42dc-9621-f2e72a05b257"
   },
   "outputs": [
    {
     "data": {
      "text/plain": [
       "'NOTICING THAT THE MODEL IS NOT AS ACCURATE AT PREDICITING QUALITY WINE (1) AS IT IS POOR WINE (0), GOING TO TRY VARIOUS METHODS OF RESAMPLING BELOW. AS YOU WILL SEE, ALL MADE THE MODEL LESS ACCURATE AND ARE THUS NOT ADVISABLE.'"
      ]
     },
     "execution_count": 26,
     "metadata": {},
     "output_type": "execute_result"
    }
   ],
   "source": [
    "'''NOTICING THAT THE MODEL IS NOT AS ACCURATE AT PREDICITING QUALITY WINE (1) AS IT IS POOR WINE (0), GOING TO TRY VARIOUS METHODS OF RESAMPLING BELOW. AS YOU WILL SEE, ALL MADE THE MODEL LESS ACCURATE AND ARE THUS NOT ADVISABLE.'''"
   ]
  },
  {
   "cell_type": "code",
   "execution_count": 27,
   "metadata": {
    "colab": {
     "base_uri": "https://localhost:8080/",
     "height": 139
    },
    "colab_type": "code",
    "id": "5o6mBH9AFvC_",
    "outputId": "05d13eb1-5fe0-4fbe-95b4-20422b906136"
   },
   "outputs": [],
   "source": [
    "#MODEL GETS LESS ACCURATE WITH SMOTE, DO NOT USE RESAMPLE\n",
    "from imblearn.over_sampling import SMOTE\n",
    "X_resampled, y_resampled = SMOTE(random_state=1,\n",
    "sampling_strategy='auto').fit_resample(\n",
    "   X_train, y_train)"
   ]
  },
  {
   "cell_type": "code",
   "execution_count": 28,
   "metadata": {
    "colab": {},
    "colab_type": "code",
    "id": "yP43bucIFvDC"
   },
   "outputs": [],
   "source": [
    "#MODEL GETS LESS ACCURATE WITH SMOTE, DO NOT USE RESAMPLE\n",
    "pca = PCA(n_components=9)\n",
    "cls = LogisticRegression() \n",
    "pipe = Pipeline([('pca', pca), ('logistic', cls)])\n",
    "pipe.fit(X_resampled, y_resampled)\n",
    "smote_predictions = pipe.predict(X_test)"
   ]
  },
  {
   "cell_type": "code",
   "execution_count": 29,
   "metadata": {
    "colab": {
     "base_uri": "https://localhost:8080/",
     "height": 34
    },
    "colab_type": "code",
    "id": "aQk0fAqrFvDF",
    "outputId": "8853adc5-f091-41d9-a9d9-a9d604a923c3"
   },
   "outputs": [
    {
     "name": "stdout",
     "output_type": "stream",
     "text": [
      "0.7218461538461538\n"
     ]
    }
   ],
   "source": [
    "#MODEL GETS LESS ACCURATE WITH SMOTE, DO NOT USE RESAMPLE\n",
    "print(accuracy_score(y_test, smote_predictions))"
   ]
  },
  {
   "cell_type": "code",
   "execution_count": 30,
   "metadata": {
    "colab": {
     "base_uri": "https://localhost:8080/",
     "height": 51
    },
    "colab_type": "code",
    "id": "XM31j6OMFvDI",
    "outputId": "dfd1c5e7-2bd6-4465-ca1f-f5aac75fc0ab"
   },
   "outputs": [],
   "source": [
    "#MODEL GETS LESS ACCURATE WITH ROS, DO NOT USE RESAMPLE\n",
    "from imblearn.over_sampling import RandomOverSampler\n",
    "ros = RandomOverSampler(random_state=1)\n",
    "X_resampled, y_resampled = ros.fit_resample(X_train, y_train)\n"
   ]
  },
  {
   "cell_type": "code",
   "execution_count": 31,
   "metadata": {
    "colab": {},
    "colab_type": "code",
    "id": "3pHcYk79FvDO"
   },
   "outputs": [],
   "source": [
    "\n",
    "#MODEL GETS LESS ACCURATE WITH ROS, DO NOT USE RESAMPLE\n",
    "pca = PCA(n_components=9)\n",
    "cls = LogisticRegression() \n",
    "pipe = Pipeline([('pca', pca), ('logistic', cls)])\n",
    "pipe.fit(X_resampled, y_resampled)\n",
    "ros_predictions = pipe.predict(X_test)"
   ]
  },
  {
   "cell_type": "code",
   "execution_count": 32,
   "metadata": {
    "colab": {
     "base_uri": "https://localhost:8080/",
     "height": 34
    },
    "colab_type": "code",
    "id": "SDJjDil3FvDR",
    "outputId": "d36799a9-5c15-448a-ec05-f5fbd800682e"
   },
   "outputs": [
    {
     "name": "stdout",
     "output_type": "stream",
     "text": [
      "0.7230769230769231\n"
     ]
    }
   ],
   "source": [
    "#MODEL GETS LESS ACCURATE WITH ROS, DO NOT USE RESAMPLE\n",
    "\n",
    "print(accuracy_score(y_test, ros_predictions))"
   ]
  },
  {
   "cell_type": "code",
   "execution_count": 33,
   "metadata": {
    "colab": {
     "base_uri": "https://localhost:8080/",
     "height": 170
    },
    "colab_type": "code",
    "id": "dM8WfEfXFvDV",
    "outputId": "842c3e73-72aa-4d36-899d-4e8850027e63"
   },
   "outputs": [
    {
     "name": "stdout",
     "output_type": "stream",
     "text": [
      "              precision    recall  f1-score   support\n",
      "\n",
      "           0       0.60      0.73      0.66       596\n",
      "           1       0.82      0.72      0.77      1029\n",
      "\n",
      "    accuracy                           0.72      1625\n",
      "   macro avg       0.71      0.72      0.71      1625\n",
      "weighted avg       0.74      0.72      0.73      1625\n",
      "\n"
     ]
    }
   ],
   "source": [
    "#MODEL GETS LESS ACCURATE WITH ROS, DO NOT USE RESAMPLE\n",
    "\n",
    "report = classification_report(y_test, ros_predictions)\n",
    "print(report)"
   ]
  },
  {
   "cell_type": "code",
   "execution_count": 34,
   "metadata": {
    "colab": {
     "base_uri": "https://localhost:8080/",
     "height": 51
    },
    "colab_type": "code",
    "id": "zhXhdOlKFvDY",
    "outputId": "45c56d6f-e30b-451b-8dff-3886c58a1a5f"
   },
   "outputs": [],
   "source": [
    "#MODEL GETS LESS ACCURATE WITH RUS, DO NOT USE RESAMPLE\n",
    "\n",
    "from imblearn.under_sampling import RandomUnderSampler\n",
    "ros = RandomUnderSampler(random_state=1)\n",
    "X_resampled, y_resampled = ros.fit_resample(X_train, y_train)\n"
   ]
  },
  {
   "cell_type": "code",
   "execution_count": 35,
   "metadata": {
    "colab": {},
    "colab_type": "code",
    "id": "eZbCUxBcFvDa"
   },
   "outputs": [],
   "source": [
    "#MODEL GETS LESS ACCURATE WITH RUS, DO NOT USE RESAMPLE\n",
    "\n",
    "pca = PCA(n_components=9)\n",
    "cls = LogisticRegression() \n",
    "pipe = Pipeline([('pca', pca), ('logistic', cls)])\n",
    "pipe.fit(X_resampled, y_resampled)\n",
    "rus_predictions = pipe.predict(X_test)"
   ]
  },
  {
   "cell_type": "code",
   "execution_count": 36,
   "metadata": {
    "colab": {
     "base_uri": "https://localhost:8080/",
     "height": 34
    },
    "colab_type": "code",
    "id": "ahd40FEFuDFr",
    "outputId": "f1383732-997e-4945-d5bb-13058b687424"
   },
   "outputs": [
    {
     "name": "stdout",
     "output_type": "stream",
     "text": [
      "0.7206153846153847\n"
     ]
    }
   ],
   "source": [
    "#MODEL GETS LESS ACCURATE WITH RUS, DO NOT USE RESAMPLE\n",
    "\n",
    "print(accuracy_score(y_test, rus_predictions))"
   ]
  },
  {
   "cell_type": "code",
   "execution_count": 37,
   "metadata": {
    "colab": {
     "base_uri": "https://localhost:8080/",
     "height": 51
    },
    "colab_type": "code",
    "id": "_304PNGxFvDc",
    "outputId": "fb2b6e81-dd03-4f8f-8e82-2f00663b7b2f"
   },
   "outputs": [],
   "source": [
    "#MODEL GETS LESS ACCURATE WITH CLUSTER CENTROID, DO NOT USE RESAMPLE\n",
    "\n",
    "from imblearn.under_sampling import ClusterCentroids\n",
    "cc = ClusterCentroids(random_state=1)\n",
    "X_resampled, y_resampled = cc.fit_resample(X_train, y_train)"
   ]
  },
  {
   "cell_type": "code",
   "execution_count": 38,
   "metadata": {
    "colab": {},
    "colab_type": "code",
    "id": "cedBgQHvtfLA"
   },
   "outputs": [],
   "source": [
    "#MODEL GETS LESS ACCURATE WITH CLUSTER CENTROID, DO NOT USE RESAMPLE\n",
    "\n",
    "\n",
    "pca = PCA(n_components=9)\n",
    "cls = LogisticRegression() \n",
    "pipe = Pipeline([('pca', pca), ('logistic', cls)])\n",
    "pipe.fit(X_resampled, y_resampled)\n",
    "cc_predictions = pipe.predict(X_test)"
   ]
  },
  {
   "cell_type": "code",
   "execution_count": 39,
   "metadata": {
    "colab": {
     "base_uri": "https://localhost:8080/",
     "height": 34
    },
    "colab_type": "code",
    "id": "aStz4clau-hA",
    "outputId": "fa3dc913-2661-47a4-d800-dfa1100ffb3a"
   },
   "outputs": [
    {
     "name": "stdout",
     "output_type": "stream",
     "text": [
      "0.715076923076923\n"
     ]
    }
   ],
   "source": [
    "#MODEL GETS LESS ACCURATE WITH CLUSTER CENTROID, DO NOT USE RESAMPLE\n",
    "\n",
    "print(accuracy_score(y_test, cc_predictions))"
   ]
  },
  {
   "cell_type": "code",
   "execution_count": 56,
   "metadata": {
    "colab": {},
    "colab_type": "code",
    "id": "NWEMV4sBvKjl"
   },
   "outputs": [],
   "source": []
  },
  {
   "cell_type": "code",
   "execution_count": null,
   "metadata": {
    "colab": {},
    "colab_type": "code",
    "id": "x7pzrXHKwMke"
   },
   "outputs": [],
   "source": [
    "\n"
   ]
  },
  {
   "cell_type": "code",
   "execution_count": null,
   "metadata": {
    "colab": {},
    "colab_type": "code",
    "id": "pO2FnqTUxKJn"
   },
   "outputs": [],
   "source": []
  },
  {
   "cell_type": "code",
   "execution_count": null,
   "metadata": {
    "colab": {},
    "colab_type": "code",
    "id": "S2mBEGPZyFZ-"
   },
   "outputs": [],
   "source": []
  }
 ],
 "metadata": {
  "colab": {
   "collapsed_sections": [],
   "include_colab_link": true,
   "name": "finproj_segment2.ipynb",
   "provenance": []
  },
  "kernelspec": {
   "display_name": "mlenv",
   "language": "python",
   "name": "mlenv"
  },
  "language_info": {
   "codemirror_mode": {
    "name": "ipython",
    "version": 3
   },
   "file_extension": ".py",
   "mimetype": "text/x-python",
   "name": "python",
   "nbconvert_exporter": "python",
   "pygments_lexer": "ipython3",
   "version": "3.7.7"
  }
 },
 "nbformat": 4,
 "nbformat_minor": 1
}
