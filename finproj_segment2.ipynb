{
  "nbformat": 4,
  "nbformat_minor": 0,
  "metadata": {
    "kernelspec": {
      "display_name": "mlenv",
      "language": "python",
      "name": "mlenv"
    },
    "language_info": {
      "codemirror_mode": {
        "name": "ipython",
        "version": 3
      },
      "file_extension": ".py",
      "mimetype": "text/x-python",
      "name": "python",
      "nbconvert_exporter": "python",
      "pygments_lexer": "ipython3",
      "version": "3.7.7"
    },
    "colab": {
      "name": "finproj_segment2.ipynb",
      "provenance": [],
      "collapsed_sections": [],
      "include_colab_link": true
    }
  },
  "cells": [
    {
      "cell_type": "markdown",
      "metadata": {
        "id": "view-in-github",
        "colab_type": "text"
      },
      "source": [
        "<a href=\"https://colab.research.google.com/github/sherylla/UCB_Final_Project/blob/will_barnes/finproj_segment2.ipynb\" target=\"_parent\"><img src=\"https://colab.research.google.com/assets/colab-badge.svg\" alt=\"Open In Colab\"/></a>"
      ]
    },
    {
      "cell_type": "code",
      "metadata": {
        "id": "d5fdpRv0FvBw",
        "colab_type": "code",
        "colab": {
          "base_uri": "https://localhost:8080/",
          "height": 34
        },
        "outputId": "6085cd2d-d551-4af9-9bab-cbe958132357"
      },
      "source": [
        "'''NOTE THAT THIS WAS MEANT TO BE RUN IN GOOGLE COLLAB - \n",
        "IF YOU WOULD LIKE A LINK TO THE NOTEBOOK IN GOOGLE COLLAB, IT IS PASTED BELOW\n",
        "https://colab.research.google.com/drive/1z7OY51sPc1xl17AQ999G01sGf8PKrBr_?usp=sharing'''"
      ],
      "execution_count": 57,
      "outputs": [
        {
          "output_type": "execute_result",
          "data": {
            "text/plain": [
              "'NOTE THAT THIS WAS MEANT TO BE RUN IN GOOGLE COLLAB - \\nIF YOU WOULD LIKE A LINK TO THE NOTEBOOK IN GOOGLE COLLAB, IT IS PASTED BELOW\\nhttps://colab.research.google.com/drive/1z7OY51sPc1xl17AQ999G01sGf8PKrBr_?usp=sharing'"
            ]
          },
          "metadata": {
            "tags": []
          },
          "execution_count": 57
        }
      ]
    },
    {
      "cell_type": "markdown",
      "metadata": {
        "id": "HnU8keRDw6SF",
        "colab_type": "text"
      },
      "source": [
        "Description of the Data:\n",
        "\n",
        "\n",
        "1. Preliminary Data Preprocessing \n",
        "\n",
        "The data was retrieved from a SQL table housed in the cloud via Postgres. \n",
        "The data was loaded into Postgres as two separate data frames. \n",
        "The data was then converted each into their own  table.\n",
        "The red wine dataframe was given a new column with a value of 0, while the white dataframe was given a new column with a value of 1, to indicate the type of the wine (red or white).\n",
        "The data was then combined into a singular dataframe. \n",
        "The data was then retrieved in Python.\n",
        "\n",
        "2. Preliminary Feature Engineering \n",
        "\n",
        "There did not need to be any changes to the data types of the features, as they were already numeric. However, I did scale the data using the standard scaler set. \n",
        "\n",
        "3. Preliminary feature Selection\n",
        "\n",
        "I conducted a PCA analysis to find the most accurate model based on the number of components. See below in the analysis for details, but it found that the model was most accurate with nine features, so I used the 9 features. \n",
        "\n",
        "4. How data was split into training and testing sets \n",
        "\n",
        "The data was split into training and testing sets using stratification, meaning it would mirror the breakdown present in the existing dataset. \n",
        "\n",
        "5. Explanation of model choice,\n",
        "\n",
        "We selected a logistic regression model because we are trying to predict a binary outcome - if the wine is quality or not. \n",
        "Additionally, we tried all methods available to increase accuracy - random over/under sampling, SMOTE, SMOTEEN, but all yieleded lower accuracy scores than without, so none should be used. \n",
        "\n",
        "\n"
      ]
    },
    {
      "cell_type": "code",
      "metadata": {
        "id": "eDEK6fuwJshK",
        "colab_type": "code",
        "colab": {}
      },
      "source": [
        "import psycopg2\n",
        "import matplotlib.pyplot as plt\n",
        "import pandas as pd\n",
        "from pathlib import Path\n",
        "from sklearn.datasets import make_blobs\n",
        "from sklearn.model_selection import train_test_split\n",
        "from sklearn.linear_model import LogisticRegression\n",
        "from sklearn.preprocessing import StandardScaler\n",
        "\n"
      ],
      "execution_count": 58,
      "outputs": []
    },
    {
      "cell_type": "code",
      "metadata": {
        "id": "x66mGrTqR2yR",
        "colab_type": "code",
        "colab": {
          "base_uri": "https://localhost:8080/",
          "height": 34
        },
        "outputId": "c8cf2a44-92d3-48a8-d896-d72f531f5a8c"
      },
      "source": [
        "'DATA LOADING'\n"
      ],
      "execution_count": 21,
      "outputs": [
        {
          "output_type": "execute_result",
          "data": {
            "text/plain": [
              "'DATA LOADING'"
            ]
          },
          "metadata": {
            "tags": []
          },
          "execution_count": 21
        }
      ]
    },
    {
      "cell_type": "code",
      "metadata": {
        "id": "qkeAE7cPRUDj",
        "colab_type": "code",
        "colab": {}
      },
      "source": [
        "connection = psycopg2.connect(\n",
        "    host = 'dataviz.cnabmkksexqr.us-west-2.rds.amazonaws.com',\n",
        "    port = 5432,\n",
        "    user = 'postgres',\n",
        "    password = '",
        "    database='amazon_reviews'\n",
        "    )\n",
        "cursor=connection.cursor()"
      ],
      "execution_count": 22,
      "outputs": []
    },
    {
      "cell_type": "code",
      "metadata": {
        "id": "_ji_h2RQRb3y",
        "colab_type": "code",
        "colab": {}
      },
      "source": [
        "sql = \"\"\"\n",
        "SELECT *\n",
        "FROM \"Joined_Tables\" \n",
        "\"\"\"\n",
        "df_combo_raw = pd.read_sql(sql, con=connection)"
      ],
      "execution_count": 23,
      "outputs": []
    },
    {
      "cell_type": "code",
      "metadata": {
        "id": "sB646kMaRi8n",
        "colab_type": "code",
        "colab": {}
      },
      "source": [
        ""
      ],
      "execution_count": 23,
      "outputs": []
    },
    {
      "cell_type": "code",
      "metadata": {
        "id": "YlZkr9PNFvCM",
        "colab_type": "code",
        "colab": {
          "base_uri": "https://localhost:8080/",
          "height": 204
        },
        "outputId": "d34489b2-38b4-4b28-e5f3-5cf6341ba22a"
      },
      "source": [
        "#sanity check it\n",
        "df_combo_raw.head()"
      ],
      "execution_count": 24,
      "outputs": [
        {
          "output_type": "execute_result",
          "data": {
            "text/html": [
              "<div>\n",
              "<style scoped>\n",
              "    .dataframe tbody tr th:only-of-type {\n",
              "        vertical-align: middle;\n",
              "    }\n",
              "\n",
              "    .dataframe tbody tr th {\n",
              "        vertical-align: top;\n",
              "    }\n",
              "\n",
              "    .dataframe thead th {\n",
              "        text-align: right;\n",
              "    }\n",
              "</style>\n",
              "<table border=\"1\" class=\"dataframe\">\n",
              "  <thead>\n",
              "    <tr style=\"text-align: right;\">\n",
              "      <th></th>\n",
              "      <th>fixed acidity</th>\n",
              "      <th>volatile acidity</th>\n",
              "      <th>citric acid</th>\n",
              "      <th>residual sugar</th>\n",
              "      <th>chlorides</th>\n",
              "      <th>free sulfur dioxide</th>\n",
              "      <th>total sulfur_dioxide</th>\n",
              "      <th>density</th>\n",
              "      <th>pH</th>\n",
              "      <th>sulphates</th>\n",
              "      <th>alcohol</th>\n",
              "      <th>quality</th>\n",
              "      <th>wine type</th>\n",
              "    </tr>\n",
              "  </thead>\n",
              "  <tbody>\n",
              "    <tr>\n",
              "      <th>0</th>\n",
              "      <td>3.8</td>\n",
              "      <td>0.310</td>\n",
              "      <td>0.02</td>\n",
              "      <td>11.1</td>\n",
              "      <td>0.036</td>\n",
              "      <td>20.0</td>\n",
              "      <td>114.0</td>\n",
              "      <td>0.99248</td>\n",
              "      <td>3.75</td>\n",
              "      <td>0.44</td>\n",
              "      <td>12.4</td>\n",
              "      <td>6</td>\n",
              "      <td>1</td>\n",
              "    </tr>\n",
              "    <tr>\n",
              "      <th>1</th>\n",
              "      <td>3.9</td>\n",
              "      <td>0.225</td>\n",
              "      <td>0.40</td>\n",
              "      <td>4.2</td>\n",
              "      <td>0.030</td>\n",
              "      <td>29.0</td>\n",
              "      <td>118.0</td>\n",
              "      <td>0.98900</td>\n",
              "      <td>3.57</td>\n",
              "      <td>0.36</td>\n",
              "      <td>12.8</td>\n",
              "      <td>8</td>\n",
              "      <td>1</td>\n",
              "    </tr>\n",
              "    <tr>\n",
              "      <th>2</th>\n",
              "      <td>4.2</td>\n",
              "      <td>0.170</td>\n",
              "      <td>0.36</td>\n",
              "      <td>1.8</td>\n",
              "      <td>0.029</td>\n",
              "      <td>93.0</td>\n",
              "      <td>161.0</td>\n",
              "      <td>0.98999</td>\n",
              "      <td>3.65</td>\n",
              "      <td>0.89</td>\n",
              "      <td>12.0</td>\n",
              "      <td>7</td>\n",
              "      <td>1</td>\n",
              "    </tr>\n",
              "    <tr>\n",
              "      <th>3</th>\n",
              "      <td>4.2</td>\n",
              "      <td>0.215</td>\n",
              "      <td>0.23</td>\n",
              "      <td>5.1</td>\n",
              "      <td>0.041</td>\n",
              "      <td>64.0</td>\n",
              "      <td>157.0</td>\n",
              "      <td>0.99688</td>\n",
              "      <td>3.42</td>\n",
              "      <td>0.44</td>\n",
              "      <td>8.0</td>\n",
              "      <td>3</td>\n",
              "      <td>1</td>\n",
              "    </tr>\n",
              "    <tr>\n",
              "      <th>4</th>\n",
              "      <td>4.4</td>\n",
              "      <td>0.320</td>\n",
              "      <td>0.39</td>\n",
              "      <td>4.3</td>\n",
              "      <td>0.030</td>\n",
              "      <td>31.0</td>\n",
              "      <td>127.0</td>\n",
              "      <td>0.98904</td>\n",
              "      <td>3.46</td>\n",
              "      <td>0.36</td>\n",
              "      <td>12.8</td>\n",
              "      <td>8</td>\n",
              "      <td>1</td>\n",
              "    </tr>\n",
              "  </tbody>\n",
              "</table>\n",
              "</div>"
            ],
            "text/plain": [
              "   fixed acidity  volatile acidity  citric acid  ...  alcohol  quality  wine type\n",
              "0            3.8             0.310         0.02  ...     12.4        6          1\n",
              "1            3.9             0.225         0.40  ...     12.8        8          1\n",
              "2            4.2             0.170         0.36  ...     12.0        7          1\n",
              "3            4.2             0.215         0.23  ...      8.0        3          1\n",
              "4            4.4             0.320         0.39  ...     12.8        8          1\n",
              "\n",
              "[5 rows x 13 columns]"
            ]
          },
          "metadata": {
            "tags": []
          },
          "execution_count": 24
        }
      ]
    },
    {
      "cell_type": "code",
      "metadata": {
        "id": "89maSeUIFvCP",
        "colab_type": "code",
        "colab": {
          "base_uri": "https://localhost:8080/",
          "height": 255
        },
        "outputId": "4b6c720e-2f10-49f7-b551-a70ad234addf"
      },
      "source": [
        "#check types of data - good, all numbers\n",
        "df_combo_raw.dtypes"
      ],
      "execution_count": 25,
      "outputs": [
        {
          "output_type": "execute_result",
          "data": {
            "text/plain": [
              "fixed acidity           float64\n",
              "volatile acidity        float64\n",
              "citric acid             float64\n",
              "residual sugar          float64\n",
              "chlorides               float64\n",
              "free sulfur dioxide     float64\n",
              "total sulfur_dioxide    float64\n",
              "density                 float64\n",
              "pH                      float64\n",
              "sulphates               float64\n",
              "alcohol                 float64\n",
              "quality                   int64\n",
              "wine type                 int64\n",
              "dtype: object"
            ]
          },
          "metadata": {
            "tags": []
          },
          "execution_count": 25
        }
      ]
    },
    {
      "cell_type": "code",
      "metadata": {
        "id": "ILPq_LcKFvCR",
        "colab_type": "code",
        "colab": {
          "base_uri": "https://localhost:8080/",
          "height": 255
        },
        "outputId": "fcf9f4e7-dc00-42d0-89c8-e47ab7682c50"
      },
      "source": [
        "#check for missing values\n",
        "count_nan = len(df_combo_raw) - df_combo_raw.count()\n",
        "print(count_nan)"
      ],
      "execution_count": 26,
      "outputs": [
        {
          "output_type": "stream",
          "text": [
            "fixed acidity           0\n",
            "volatile acidity        0\n",
            "citric acid             0\n",
            "residual sugar          0\n",
            "chlorides               0\n",
            "free sulfur dioxide     0\n",
            "total sulfur_dioxide    0\n",
            "density                 0\n",
            "pH                      0\n",
            "sulphates               0\n",
            "alcohol                 0\n",
            "quality                 0\n",
            "wine type               0\n",
            "dtype: int64\n"
          ],
          "name": "stdout"
        }
      ]
    },
    {
      "cell_type": "code",
      "metadata": {
        "id": "d8Y8GEmaFvCU",
        "colab_type": "code",
        "colab": {
          "base_uri": "https://localhost:8080/",
          "height": 297
        },
        "outputId": "449de752-9eea-4096-a78e-2d43e55bf320"
      },
      "source": [
        "#check for number of quality targets - each wine has a quality score between 3 and 9\n",
        "df_combo_raw.groupby(['quality']).count().head(20)"
      ],
      "execution_count": 27,
      "outputs": [
        {
          "output_type": "execute_result",
          "data": {
            "text/html": [
              "<div>\n",
              "<style scoped>\n",
              "    .dataframe tbody tr th:only-of-type {\n",
              "        vertical-align: middle;\n",
              "    }\n",
              "\n",
              "    .dataframe tbody tr th {\n",
              "        vertical-align: top;\n",
              "    }\n",
              "\n",
              "    .dataframe thead th {\n",
              "        text-align: right;\n",
              "    }\n",
              "</style>\n",
              "<table border=\"1\" class=\"dataframe\">\n",
              "  <thead>\n",
              "    <tr style=\"text-align: right;\">\n",
              "      <th></th>\n",
              "      <th>fixed acidity</th>\n",
              "      <th>volatile acidity</th>\n",
              "      <th>citric acid</th>\n",
              "      <th>residual sugar</th>\n",
              "      <th>chlorides</th>\n",
              "      <th>free sulfur dioxide</th>\n",
              "      <th>total sulfur_dioxide</th>\n",
              "      <th>density</th>\n",
              "      <th>pH</th>\n",
              "      <th>sulphates</th>\n",
              "      <th>alcohol</th>\n",
              "      <th>wine type</th>\n",
              "    </tr>\n",
              "    <tr>\n",
              "      <th>quality</th>\n",
              "      <th></th>\n",
              "      <th></th>\n",
              "      <th></th>\n",
              "      <th></th>\n",
              "      <th></th>\n",
              "      <th></th>\n",
              "      <th></th>\n",
              "      <th></th>\n",
              "      <th></th>\n",
              "      <th></th>\n",
              "      <th></th>\n",
              "      <th></th>\n",
              "    </tr>\n",
              "  </thead>\n",
              "  <tbody>\n",
              "    <tr>\n",
              "      <th>3</th>\n",
              "      <td>30</td>\n",
              "      <td>30</td>\n",
              "      <td>30</td>\n",
              "      <td>30</td>\n",
              "      <td>30</td>\n",
              "      <td>30</td>\n",
              "      <td>30</td>\n",
              "      <td>30</td>\n",
              "      <td>30</td>\n",
              "      <td>30</td>\n",
              "      <td>30</td>\n",
              "      <td>30</td>\n",
              "    </tr>\n",
              "    <tr>\n",
              "      <th>4</th>\n",
              "      <td>216</td>\n",
              "      <td>216</td>\n",
              "      <td>216</td>\n",
              "      <td>216</td>\n",
              "      <td>216</td>\n",
              "      <td>216</td>\n",
              "      <td>216</td>\n",
              "      <td>216</td>\n",
              "      <td>216</td>\n",
              "      <td>216</td>\n",
              "      <td>216</td>\n",
              "      <td>216</td>\n",
              "    </tr>\n",
              "    <tr>\n",
              "      <th>5</th>\n",
              "      <td>2138</td>\n",
              "      <td>2138</td>\n",
              "      <td>2138</td>\n",
              "      <td>2138</td>\n",
              "      <td>2138</td>\n",
              "      <td>2138</td>\n",
              "      <td>2138</td>\n",
              "      <td>2138</td>\n",
              "      <td>2138</td>\n",
              "      <td>2138</td>\n",
              "      <td>2138</td>\n",
              "      <td>2138</td>\n",
              "    </tr>\n",
              "    <tr>\n",
              "      <th>6</th>\n",
              "      <td>2836</td>\n",
              "      <td>2836</td>\n",
              "      <td>2836</td>\n",
              "      <td>2836</td>\n",
              "      <td>2836</td>\n",
              "      <td>2836</td>\n",
              "      <td>2836</td>\n",
              "      <td>2836</td>\n",
              "      <td>2836</td>\n",
              "      <td>2836</td>\n",
              "      <td>2836</td>\n",
              "      <td>2836</td>\n",
              "    </tr>\n",
              "    <tr>\n",
              "      <th>7</th>\n",
              "      <td>1079</td>\n",
              "      <td>1079</td>\n",
              "      <td>1079</td>\n",
              "      <td>1079</td>\n",
              "      <td>1079</td>\n",
              "      <td>1079</td>\n",
              "      <td>1079</td>\n",
              "      <td>1079</td>\n",
              "      <td>1079</td>\n",
              "      <td>1079</td>\n",
              "      <td>1079</td>\n",
              "      <td>1079</td>\n",
              "    </tr>\n",
              "    <tr>\n",
              "      <th>8</th>\n",
              "      <td>193</td>\n",
              "      <td>193</td>\n",
              "      <td>193</td>\n",
              "      <td>193</td>\n",
              "      <td>193</td>\n",
              "      <td>193</td>\n",
              "      <td>193</td>\n",
              "      <td>193</td>\n",
              "      <td>193</td>\n",
              "      <td>193</td>\n",
              "      <td>193</td>\n",
              "      <td>193</td>\n",
              "    </tr>\n",
              "    <tr>\n",
              "      <th>9</th>\n",
              "      <td>5</td>\n",
              "      <td>5</td>\n",
              "      <td>5</td>\n",
              "      <td>5</td>\n",
              "      <td>5</td>\n",
              "      <td>5</td>\n",
              "      <td>5</td>\n",
              "      <td>5</td>\n",
              "      <td>5</td>\n",
              "      <td>5</td>\n",
              "      <td>5</td>\n",
              "      <td>5</td>\n",
              "    </tr>\n",
              "  </tbody>\n",
              "</table>\n",
              "</div>"
            ],
            "text/plain": [
              "         fixed acidity  volatile acidity  ...  alcohol  wine type\n",
              "quality                                   ...                    \n",
              "3                   30                30  ...       30         30\n",
              "4                  216               216  ...      216        216\n",
              "5                 2138              2138  ...     2138       2138\n",
              "6                 2836              2836  ...     2836       2836\n",
              "7                 1079              1079  ...     1079       1079\n",
              "8                  193               193  ...      193        193\n",
              "9                    5                 5  ...        5          5\n",
              "\n",
              "[7 rows x 12 columns]"
            ]
          },
          "metadata": {
            "tags": []
          },
          "execution_count": 27
        }
      ]
    },
    {
      "cell_type": "code",
      "metadata": {
        "id": "Iji8D9aHaT4s",
        "colab_type": "code",
        "colab": {
          "base_uri": "https://localhost:8080/",
          "height": 315
        },
        "outputId": "a52d7074-ea66-4eef-b5eb-842e7e80ca40"
      },
      "source": [
        "df_combo_raw.hist(column='quality')\n"
      ],
      "execution_count": 28,
      "outputs": [
        {
          "output_type": "execute_result",
          "data": {
            "text/plain": [
              "array([[<matplotlib.axes._subplots.AxesSubplot object at 0x7f79be8d6f60>]],\n",
              "      dtype=object)"
            ]
          },
          "metadata": {
            "tags": []
          },
          "execution_count": 28
        },
        {
          "output_type": "display_data",
          "data": {
            "image/png": "[encoded data removed]",
            "text/plain": [
              "<Figure size 432x288 with 1 Axes>"
            ]
          },
          "metadata": {
            "tags": [],
            "needs_background": "light"
          }
        }
      ]
    },
    {
      "cell_type": "code",
      "metadata": {
        "id": "xCBX9KVsFvCX",
        "colab_type": "code",
        "colab": {
          "base_uri": "https://localhost:8080/",
          "height": 142
        },
        "outputId": "42d8a48c-3976-4cba-cad2-ab41e0b8226f"
      },
      "source": [
        "# there are too many values for the target. I will change each target to be High Quality, a value of 1, or Low Quality, a value of 0. High quality sits between 7,8,9. Low Quality sits between 3,4,5,6\n",
        "df_copy = df_combo_raw.copy()\n",
        "df_copy.loc[(df_copy.quality < 6),'quality']=0\n",
        "df_copy.loc[(df_copy.quality > 5),'quality']=1\n",
        "\n",
        "df_copy.groupby(['quality']).count().head(20)\n"
      ],
      "execution_count": 29,
      "outputs": [
        {
          "output_type": "execute_result",
          "data": {
            "text/html": [
              "<div>\n",
              "<style scoped>\n",
              "    .dataframe tbody tr th:only-of-type {\n",
              "        vertical-align: middle;\n",
              "    }\n",
              "\n",
              "    .dataframe tbody tr th {\n",
              "        vertical-align: top;\n",
              "    }\n",
              "\n",
              "    .dataframe thead th {\n",
              "        text-align: right;\n",
              "    }\n",
              "</style>\n",
              "<table border=\"1\" class=\"dataframe\">\n",
              "  <thead>\n",
              "    <tr style=\"text-align: right;\">\n",
              "      <th></th>\n",
              "      <th>fixed acidity</th>\n",
              "      <th>volatile acidity</th>\n",
              "      <th>citric acid</th>\n",
              "      <th>residual sugar</th>\n",
              "      <th>chlorides</th>\n",
              "      <th>free sulfur dioxide</th>\n",
              "      <th>total sulfur_dioxide</th>\n",
              "      <th>density</th>\n",
              "      <th>pH</th>\n",
              "      <th>sulphates</th>\n",
              "      <th>alcohol</th>\n",
              "      <th>wine type</th>\n",
              "    </tr>\n",
              "    <tr>\n",
              "      <th>quality</th>\n",
              "      <th></th>\n",
              "      <th></th>\n",
              "      <th></th>\n",
              "      <th></th>\n",
              "      <th></th>\n",
              "      <th></th>\n",
              "      <th></th>\n",
              "      <th></th>\n",
              "      <th></th>\n",
              "      <th></th>\n",
              "      <th></th>\n",
              "      <th></th>\n",
              "    </tr>\n",
              "  </thead>\n",
              "  <tbody>\n",
              "    <tr>\n",
              "      <th>0</th>\n",
              "      <td>2384</td>\n",
              "      <td>2384</td>\n",
              "      <td>2384</td>\n",
              "      <td>2384</td>\n",
              "      <td>2384</td>\n",
              "      <td>2384</td>\n",
              "      <td>2384</td>\n",
              "      <td>2384</td>\n",
              "      <td>2384</td>\n",
              "      <td>2384</td>\n",
              "      <td>2384</td>\n",
              "      <td>2384</td>\n",
              "    </tr>\n",
              "    <tr>\n",
              "      <th>1</th>\n",
              "      <td>4113</td>\n",
              "      <td>4113</td>\n",
              "      <td>4113</td>\n",
              "      <td>4113</td>\n",
              "      <td>4113</td>\n",
              "      <td>4113</td>\n",
              "      <td>4113</td>\n",
              "      <td>4113</td>\n",
              "      <td>4113</td>\n",
              "      <td>4113</td>\n",
              "      <td>4113</td>\n",
              "      <td>4113</td>\n",
              "    </tr>\n",
              "  </tbody>\n",
              "</table>\n",
              "</div>"
            ],
            "text/plain": [
              "         fixed acidity  volatile acidity  ...  alcohol  wine type\n",
              "quality                                   ...                    \n",
              "0                 2384              2384  ...     2384       2384\n",
              "1                 4113              4113  ...     4113       4113\n",
              "\n",
              "[2 rows x 12 columns]"
            ]
          },
          "metadata": {
            "tags": []
          },
          "execution_count": 29
        }
      ]
    },
    {
      "cell_type": "code",
      "metadata": {
        "id": "kDt1nrJfFvCd",
        "colab_type": "code",
        "colab": {}
      },
      "source": [
        "#change the name of the DF for readability\n",
        "df_combo_cleaned = df_copy        "
      ],
      "execution_count": 30,
      "outputs": []
    },
    {
      "cell_type": "code",
      "metadata": {
        "id": "UR9Sa8BfFvCi",
        "colab_type": "code",
        "colab": {
          "base_uri": "https://localhost:8080/",
          "height": 238
        },
        "outputId": "47703d8f-f4da-4789-ea8d-4554e84f0916"
      },
      "source": [
        "#scale the data\n",
        "data_scaler = StandardScaler()\n",
        "df_combo_scaled = data_scaler.fit_transform(df_combo_cleaned.drop(columns=\"quality\"))\n",
        "df_combo_scaled"
      ],
      "execution_count": 31,
      "outputs": [
        {
          "output_type": "execute_result",
          "data": {
            "text/plain": [
              "array([[-2.63458886, -0.1802048 , -2.0551926 , ..., -0.61338508,\n",
              "         1.60000607,  0.57136659],\n",
              "       [-2.55744824, -0.69653353,  0.55996589, ..., -1.15103964,\n",
              "         1.9354021 ,  0.57136659],\n",
              "       [-2.3260264 , -1.0306286 ,  0.28468605, ...,  2.41092186,\n",
              "         1.26461004,  0.57136659],\n",
              "       ...,\n",
              "       [ 6.46800365,  1.85473786,  1.17934553, ...,  1.40281954,\n",
              "         0.50996897, -1.75018984],\n",
              "       [ 6.46800365,  2.09771608,  3.03748445, ...,  0.99957862,\n",
              "         0.59381798, -1.75018984],\n",
              "       [ 6.6994255 ,  0.12351798,  2.28046489, ...,  2.07488775,\n",
              "         3.69623127, -1.75018984]])"
            ]
          },
          "metadata": {
            "tags": []
          },
          "execution_count": 31
        }
      ]
    },
    {
      "cell_type": "code",
      "metadata": {
        "id": "fC3v9jvtFvCo",
        "colab_type": "code",
        "colab": {
          "base_uri": "https://localhost:8080/",
          "height": 51
        },
        "outputId": "de24b71e-a514-4e78-d23f-f4e0b1f98e00"
      },
      "source": [
        "#check if data is scaled\n",
        "import numpy as np\n",
        "print(np.mean(df_combo_scaled[:,0]))\n",
        "print(np.std(df_combo_scaled[:,0]))"
      ],
      "execution_count": 32,
      "outputs": [
        {
          "output_type": "stream",
          "text": [
            "-3.4996717784089895e-16\n",
            "1.0\n"
          ],
          "name": "stdout"
        }
      ]
    },
    {
      "cell_type": "code",
      "metadata": {
        "id": "CKzgBIaXFvCt",
        "colab_type": "code",
        "colab": {
          "base_uri": "https://localhost:8080/",
          "height": 34
        },
        "outputId": "be14625f-ff8e-4afd-c847-563d08f67739"
      },
      "source": [
        "'MODEL CREATION'"
      ],
      "execution_count": 33,
      "outputs": [
        {
          "output_type": "execute_result",
          "data": {
            "text/plain": [
              "'MODEL CREATION'"
            ]
          },
          "metadata": {
            "tags": []
          },
          "execution_count": 33
        }
      ]
    },
    {
      "cell_type": "code",
      "metadata": {
        "id": "HOu0Z5d6FvCz",
        "colab_type": "code",
        "colab": {}
      },
      "source": [
        ""
      ],
      "execution_count": 33,
      "outputs": []
    },
    {
      "cell_type": "code",
      "metadata": {
        "id": "gipFn1_GFvC5",
        "colab_type": "code",
        "colab": {}
      },
      "source": [
        "#define target and features\n",
        "y = df_combo_cleaned[\"quality\"]\n",
        "X = df_combo_scaled"
      ],
      "execution_count": 34,
      "outputs": []
    },
    {
      "cell_type": "code",
      "metadata": {
        "id": "FnTKRKMMFvC8",
        "colab_type": "code",
        "colab": {}
      },
      "source": [
        "#train the data set\n",
        "X_train, X_test, y_train, y_test = train_test_split(X,\n",
        "   y, random_state=1, stratify=y)"
      ],
      "execution_count": 35,
      "outputs": []
    },
    {
      "cell_type": "code",
      "metadata": {
        "id": "oxGsGy899xu-",
        "colab_type": "code",
        "colab": {}
      },
      "source": [
        "\n"
      ],
      "execution_count": 35,
      "outputs": []
    },
    {
      "cell_type": "code",
      "metadata": {
        "id": "ErYgCGnD90ZN",
        "colab_type": "code",
        "colab": {}
      },
      "source": [
        ""
      ],
      "execution_count": 35,
      "outputs": []
    },
    {
      "cell_type": "code",
      "metadata": {
        "id": "8_guEj5JyUlJ",
        "colab_type": "code",
        "colab": {
          "base_uri": "https://localhost:8080/",
          "height": 119
        },
        "outputId": "0bf6373d-695f-4a98-a54f-12922069d575"
      },
      "source": [
        "'''BEGIN SEGMENT TWO: PCA'''\n",
        "variance_list = [0.95,0.90,0.85,0.80,0.75,0.70]\n",
        "\n",
        "from sklearn.decomposition import PCA\n",
        "\n",
        "from sklearn import metrics\n",
        "\n",
        "benchmark_cols = ['Variance retained','n_Components','Accuracy_percentage']\n",
        "benchmark = pd.DataFrame(columns = benchmark_cols)\n",
        "\n",
        "def benchmark_pca(variance,train_img,train_lbl,test_img,test_lbl):\n",
        "    global benchmark\n",
        "    print(train_img.shape)\n",
        "    pca = PCA(variance)\n",
        "    pca.fit(train_img)\n",
        "    n_components = pca.n_components_\n",
        "    train_img = pca.transform(train_img)\n",
        "\n",
        "    # pca.fit(test_img)\n",
        "    test_img = pca.transform(test_img)\n",
        "    logisticRegr = LogisticRegression(solver = 'lbfgs')\n",
        "    #start = time.time()\n",
        "    logisticRegr.fit(train_img, train_lbl)\n",
        "    #end =  time.time()\n",
        " \n",
        "    #timing = end-start   \n",
        "\n",
        "    # Predict for Multiple Observations (images) at Once\n",
        "    predicted = logisticRegr.predict(test_img)   \n",
        "\n",
        "    # generate evaluation metrics\n",
        "    accuracy = (metrics.accuracy_score(test_lbl, predicted))\n",
        "    #return \n",
        "    a = dict(zip(benchmark_cols,[variance,n_components,accuracy]))\n",
        "    benchmark = benchmark.append(a,ignore_index=True)\n",
        "\n",
        "for variance in variance_list:\n",
        "    benchmark_pca(variance,X_train,y_train,X_test,y_test)"
      ],
      "execution_count": 36,
      "outputs": [
        {
          "output_type": "stream",
          "text": [
            "(4872, 12)\n",
            "(4872, 12)\n",
            "(4872, 12)\n",
            "(4872, 12)\n",
            "(4872, 12)\n",
            "(4872, 12)\n"
          ],
          "name": "stdout"
        }
      ]
    },
    {
      "cell_type": "code",
      "metadata": {
        "id": "iOKJJ3tJyetA",
        "colab_type": "code",
        "colab": {
          "base_uri": "https://localhost:8080/",
          "height": 235
        },
        "outputId": "cf55a198-c7a8-4b9a-e38e-567f64bc3b0b"
      },
      "source": [
        "benchmark"
      ],
      "execution_count": 37,
      "outputs": [
        {
          "output_type": "execute_result",
          "data": {
            "text/html": [
              "<div>\n",
              "<style scoped>\n",
              "    .dataframe tbody tr th:only-of-type {\n",
              "        vertical-align: middle;\n",
              "    }\n",
              "\n",
              "    .dataframe tbody tr th {\n",
              "        vertical-align: top;\n",
              "    }\n",
              "\n",
              "    .dataframe thead th {\n",
              "        text-align: right;\n",
              "    }\n",
              "</style>\n",
              "<table border=\"1\" class=\"dataframe\">\n",
              "  <thead>\n",
              "    <tr style=\"text-align: right;\">\n",
              "      <th></th>\n",
              "      <th>Variance retained</th>\n",
              "      <th>n_Components</th>\n",
              "      <th>Accuracy_percentage</th>\n",
              "    </tr>\n",
              "  </thead>\n",
              "  <tbody>\n",
              "    <tr>\n",
              "      <th>0</th>\n",
              "      <td>0.95</td>\n",
              "      <td>9.0</td>\n",
              "      <td>0.747077</td>\n",
              "    </tr>\n",
              "    <tr>\n",
              "      <th>1</th>\n",
              "      <td>0.90</td>\n",
              "      <td>8.0</td>\n",
              "      <td>0.719385</td>\n",
              "    </tr>\n",
              "    <tr>\n",
              "      <th>2</th>\n",
              "      <td>0.85</td>\n",
              "      <td>6.0</td>\n",
              "      <td>0.694154</td>\n",
              "    </tr>\n",
              "    <tr>\n",
              "      <th>3</th>\n",
              "      <td>0.80</td>\n",
              "      <td>5.0</td>\n",
              "      <td>0.694154</td>\n",
              "    </tr>\n",
              "    <tr>\n",
              "      <th>4</th>\n",
              "      <td>0.75</td>\n",
              "      <td>5.0</td>\n",
              "      <td>0.694154</td>\n",
              "    </tr>\n",
              "    <tr>\n",
              "      <th>5</th>\n",
              "      <td>0.70</td>\n",
              "      <td>4.0</td>\n",
              "      <td>0.682462</td>\n",
              "    </tr>\n",
              "  </tbody>\n",
              "</table>\n",
              "</div>"
            ],
            "text/plain": [
              "   Variance retained  n_Components  Accuracy_percentage\n",
              "0               0.95           9.0             0.747077\n",
              "1               0.90           8.0             0.719385\n",
              "2               0.85           6.0             0.694154\n",
              "3               0.80           5.0             0.694154\n",
              "4               0.75           5.0             0.694154\n",
              "5               0.70           4.0             0.682462"
            ]
          },
          "metadata": {
            "tags": []
          },
          "execution_count": 37
        }
      ]
    },
    {
      "cell_type": "code",
      "metadata": {
        "id": "8SCQRsbbyj72",
        "colab_type": "code",
        "colab": {
          "base_uri": "https://localhost:8080/",
          "height": 313
        },
        "outputId": "4adfdffd-0446-4d6f-d34d-d077fbf5bad9"
      },
      "source": [
        "benchmark.plot(x=1,y=-1)\n",
        "plt.title(\"no of components vs accuracy\")"
      ],
      "execution_count": 38,
      "outputs": [
        {
          "output_type": "execute_result",
          "data": {
            "text/plain": [
              "Text(0.5, 1.0, 'no of components vs accuracy')"
            ]
          },
          "metadata": {
            "tags": []
          },
          "execution_count": 38
        },
        {
          "output_type": "display_data",
          "data": {
            "image/png": "[encoded data removed]",
            "text/plain": [
              "<Figure size 432x288 with 1 Axes>"
            ]
          },
          "metadata": {
            "tags": [],
            "needs_background": "light"
          }
        }
      ]
    },
    {
      "cell_type": "code",
      "metadata": {
        "id": "_mwNdDPjyqAT",
        "colab_type": "code",
        "colab": {}
      },
      "source": [
        "from sklearn.pipeline import Pipeline\n",
        "pca = PCA(n_components=9)\n",
        "cls = LogisticRegression() \n",
        "pipe = Pipeline([('pca', pca), ('logistic', cls)])\n",
        "pipe.fit(X_train, y_train)\n",
        "predictions = pipe.predict(X_test)"
      ],
      "execution_count": 39,
      "outputs": []
    },
    {
      "cell_type": "code",
      "metadata": {
        "id": "nCFptHUIziLo",
        "colab_type": "code",
        "colab": {}
      },
      "source": [
        ""
      ],
      "execution_count": 39,
      "outputs": []
    },
    {
      "cell_type": "code",
      "metadata": {
        "id": "9ZemYwLv8MH6",
        "colab_type": "code",
        "colab": {}
      },
      "source": [
        ""
      ],
      "execution_count": 39,
      "outputs": []
    },
    {
      "cell_type": "code",
      "metadata": {
        "id": "LNoNDurE0q1p",
        "colab_type": "code",
        "colab": {
          "base_uri": "https://localhost:8080/",
          "height": 34
        },
        "outputId": "4f2cdcaa-32ed-4673-ad83-7eefb3c2d1c8"
      },
      "source": [
        "from sklearn.metrics import accuracy_score\n",
        "print(accuracy_score(y_test, predictions))"
      ],
      "execution_count": 40,
      "outputs": [
        {
          "output_type": "stream",
          "text": [
            "0.7470769230769231\n"
          ],
          "name": "stdout"
        }
      ]
    },
    {
      "cell_type": "code",
      "metadata": {
        "id": "N7xNzdmy1KNo",
        "colab_type": "code",
        "colab": {
          "base_uri": "https://localhost:8080/",
          "height": 51
        },
        "outputId": "9e6afb2f-8fc6-432a-a7c4-e7d3f23b735a"
      },
      "source": [
        "from sklearn.metrics import confusion_matrix, classification_report\n",
        "matrix = confusion_matrix(y_test, predictions)\n",
        "print(matrix)"
      ],
      "execution_count": 41,
      "outputs": [
        {
          "output_type": "stream",
          "text": [
            "[[346 250]\n",
            " [161 868]]\n"
          ],
          "name": "stdout"
        }
      ]
    },
    {
      "cell_type": "code",
      "metadata": {
        "id": "dbZu-kAy1X5J",
        "colab_type": "code",
        "colab": {
          "base_uri": "https://localhost:8080/",
          "height": 170
        },
        "outputId": "05440647-6966-4101-b9ca-2d382d0b1b8d"
      },
      "source": [
        "report = classification_report(y_test, predictions)\n",
        "print(report)"
      ],
      "execution_count": 42,
      "outputs": [
        {
          "output_type": "stream",
          "text": [
            "              precision    recall  f1-score   support\n",
            "\n",
            "           0       0.68      0.58      0.63       596\n",
            "           1       0.78      0.84      0.81      1029\n",
            "\n",
            "    accuracy                           0.75      1625\n",
            "   macro avg       0.73      0.71      0.72      1625\n",
            "weighted avg       0.74      0.75      0.74      1625\n",
            "\n"
          ],
          "name": "stdout"
        }
      ]
    },
    {
      "cell_type": "code",
      "metadata": {
        "id": "ymBzMZI8-1xz",
        "colab_type": "code",
        "colab": {
          "base_uri": "https://localhost:8080/",
          "height": 34
        },
        "outputId": "ecdf575d-99fe-42dc-9621-f2e72a05b257"
      },
      "source": [
        "'''NOTICING THAT THE MODEL IS NOT AS ACCURATE AT PREDICITING QUALITY WINE (1) AS IT IS POOR WINE (0), GOING TO TRY VARIOUS METHODS OF RESAMPLING BELOW. AS YOU WILL SEE, ALL MADE THE MODEL LESS ACCURATE AND ARE THUS NOT ADVISABLE.'''"
      ],
      "execution_count": 43,
      "outputs": [
        {
          "output_type": "execute_result",
          "data": {
            "text/plain": [
              "'NOTICING THAT THE MODEL IS NOT AS ACCURATE AT PREDICITING QUALITY WINE (1) AS IT IS POOR WINE (0), GOING TO TRY VARIOUS METHODS OF RESAMPLING BELOW. AS YOU WILL SEE, ALL MADE THE MODEL LESS ACCURATE AND ARE THUS NOT ADVISABLE.'"
            ]
          },
          "metadata": {
            "tags": []
          },
          "execution_count": 43
        }
      ]
    },
    {
      "cell_type": "code",
      "metadata": {
        "id": "5o6mBH9AFvC_",
        "colab_type": "code",
        "colab": {
          "base_uri": "https://localhost:8080/",
          "height": 139
        },
        "outputId": "05d13eb1-5fe0-4fbe-95b4-20422b906136"
      },
      "source": [
        "#MODEL GETS LESS ACCURATE WITH SMOTE, DO NOT USE RESAMPLE\n",
        "from imblearn.over_sampling import SMOTE\n",
        "X_resampled, y_resampled = SMOTE(random_state=1,\n",
        "sampling_strategy='auto').fit_resample(\n",
        "   X_train, y_train)"
      ],
      "execution_count": 44,
      "outputs": [
        {
          "output_type": "stream",
          "text": [
            "/usr/local/lib/python3.6/dist-packages/sklearn/externals/six.py:31: FutureWarning: The module is deprecated in version 0.21 and will be removed in version 0.23 since we've dropped support for Python 2.7. Please rely on the official version of six (https://pypi.org/project/six/).\n",
            "  \"(https://pypi.org/project/six/).\", FutureWarning)\n",
            "/usr/local/lib/python3.6/dist-packages/sklearn/utils/deprecation.py:144: FutureWarning: The sklearn.neighbors.base module is  deprecated in version 0.22 and will be removed in version 0.24. The corresponding classes / functions should instead be imported from sklearn.neighbors. Anything that cannot be imported from sklearn.neighbors is now part of the private API.\n",
            "  warnings.warn(message, FutureWarning)\n",
            "/usr/local/lib/python3.6/dist-packages/sklearn/utils/deprecation.py:87: FutureWarning: Function safe_indexing is deprecated; safe_indexing is deprecated in version 0.22 and will be removed in version 0.24.\n",
            "  warnings.warn(msg, category=FutureWarning)\n"
          ],
          "name": "stderr"
        }
      ]
    },
    {
      "cell_type": "code",
      "metadata": {
        "id": "yP43bucIFvDC",
        "colab_type": "code",
        "colab": {}
      },
      "source": [
        "#MODEL GETS LESS ACCURATE WITH SMOTE, DO NOT USE RESAMPLE\n",
        "pca = PCA(n_components=9)\n",
        "cls = LogisticRegression() \n",
        "pipe = Pipeline([('pca', pca), ('logistic', cls)])\n",
        "pipe.fit(X_resampled, y_resampled)\n",
        "smote_predictions = pipe.predict(X_test)"
      ],
      "execution_count": 45,
      "outputs": []
    },
    {
      "cell_type": "code",
      "metadata": {
        "id": "aQk0fAqrFvDF",
        "colab_type": "code",
        "colab": {
          "base_uri": "https://localhost:8080/",
          "height": 34
        },
        "outputId": "8853adc5-f091-41d9-a9d9-a9d604a923c3"
      },
      "source": [
        "#MODEL GETS LESS ACCURATE WITH SMOTE, DO NOT USE RESAMPLE\n",
        "print(accuracy_score(y_test, smote_predictions))"
      ],
      "execution_count": 46,
      "outputs": [
        {
          "output_type": "stream",
          "text": [
            "0.7236923076923077\n"
          ],
          "name": "stdout"
        }
      ]
    },
    {
      "cell_type": "code",
      "metadata": {
        "id": "XM31j6OMFvDI",
        "colab_type": "code",
        "colab": {
          "base_uri": "https://localhost:8080/",
          "height": 51
        },
        "outputId": "dfd1c5e7-2bd6-4465-ca1f-f5aac75fc0ab"
      },
      "source": [
        "#MODEL GETS LESS ACCURATE WITH ROS, DO NOT USE RESAMPLE\n",
        "from imblearn.over_sampling import RandomOverSampler\n",
        "ros = RandomOverSampler(random_state=1)\n",
        "X_resampled, y_resampled = ros.fit_resample(X_train, y_train)\n"
      ],
      "execution_count": 47,
      "outputs": [
        {
          "output_type": "stream",
          "text": [
            "/usr/local/lib/python3.6/dist-packages/sklearn/utils/deprecation.py:87: FutureWarning: Function safe_indexing is deprecated; safe_indexing is deprecated in version 0.22 and will be removed in version 0.24.\n",
            "  warnings.warn(msg, category=FutureWarning)\n"
          ],
          "name": "stderr"
        }
      ]
    },
    {
      "cell_type": "code",
      "metadata": {
        "id": "3pHcYk79FvDO",
        "colab_type": "code",
        "colab": {}
      },
      "source": [
        "\n",
        "#MODEL GETS LESS ACCURATE WITH ROS, DO NOT USE RESAMPLE\n",
        "pca = PCA(n_components=9)\n",
        "cls = LogisticRegression() \n",
        "pipe = Pipeline([('pca', pca), ('logistic', cls)])\n",
        "pipe.fit(X_resampled, y_resampled)\n",
        "ros_predictions = pipe.predict(X_test)"
      ],
      "execution_count": 48,
      "outputs": []
    },
    {
      "cell_type": "code",
      "metadata": {
        "id": "SDJjDil3FvDR",
        "colab_type": "code",
        "colab": {
          "base_uri": "https://localhost:8080/",
          "height": 34
        },
        "outputId": "d36799a9-5c15-448a-ec05-f5fbd800682e"
      },
      "source": [
        "#MODEL GETS LESS ACCURATE WITH ROS, DO NOT USE RESAMPLE\n",
        "\n",
        "print(accuracy_score(y_test, ros_predictions))"
      ],
      "execution_count": 49,
      "outputs": [
        {
          "output_type": "stream",
          "text": [
            "0.7206153846153847\n"
          ],
          "name": "stdout"
        }
      ]
    },
    {
      "cell_type": "code",
      "metadata": {
        "id": "dM8WfEfXFvDV",
        "colab_type": "code",
        "colab": {
          "base_uri": "https://localhost:8080/",
          "height": 170
        },
        "outputId": "842c3e73-72aa-4d36-899d-4e8850027e63"
      },
      "source": [
        "#MODEL GETS LESS ACCURATE WITH ROS, DO NOT USE RESAMPLE\n",
        "\n",
        "report = classification_report(y_test, ros_predictions)\n",
        "print(report)"
      ],
      "execution_count": 50,
      "outputs": [
        {
          "output_type": "stream",
          "text": [
            "              precision    recall  f1-score   support\n",
            "\n",
            "           0       0.59      0.76      0.67       596\n",
            "           1       0.83      0.70      0.76      1029\n",
            "\n",
            "    accuracy                           0.72      1625\n",
            "   macro avg       0.71      0.73      0.71      1625\n",
            "weighted avg       0.74      0.72      0.73      1625\n",
            "\n"
          ],
          "name": "stdout"
        }
      ]
    },
    {
      "cell_type": "code",
      "metadata": {
        "id": "zhXhdOlKFvDY",
        "colab_type": "code",
        "colab": {
          "base_uri": "https://localhost:8080/",
          "height": 51
        },
        "outputId": "45c56d6f-e30b-451b-8dff-3886c58a1a5f"
      },
      "source": [
        "#MODEL GETS LESS ACCURATE WITH RUS, DO NOT USE RESAMPLE\n",
        "\n",
        "from imblearn.under_sampling import RandomUnderSampler\n",
        "ros = RandomUnderSampler(random_state=1)\n",
        "X_resampled, y_resampled = ros.fit_resample(X_train, y_train)\n"
      ],
      "execution_count": 51,
      "outputs": [
        {
          "output_type": "stream",
          "text": [
            "/usr/local/lib/python3.6/dist-packages/sklearn/utils/deprecation.py:87: FutureWarning: Function safe_indexing is deprecated; safe_indexing is deprecated in version 0.22 and will be removed in version 0.24.\n",
            "  warnings.warn(msg, category=FutureWarning)\n"
          ],
          "name": "stderr"
        }
      ]
    },
    {
      "cell_type": "code",
      "metadata": {
        "id": "eZbCUxBcFvDa",
        "colab_type": "code",
        "colab": {}
      },
      "source": [
        "#MODEL GETS LESS ACCURATE WITH RUS, DO NOT USE RESAMPLE\n",
        "\n",
        "pca = PCA(n_components=9)\n",
        "cls = LogisticRegression() \n",
        "pipe = Pipeline([('pca', pca), ('logistic', cls)])\n",
        "pipe.fit(X_resampled, y_resampled)\n",
        "rus_predictions = pipe.predict(X_test)"
      ],
      "execution_count": 52,
      "outputs": []
    },
    {
      "cell_type": "code",
      "metadata": {
        "id": "ahd40FEFuDFr",
        "colab_type": "code",
        "colab": {
          "base_uri": "https://localhost:8080/",
          "height": 34
        },
        "outputId": "f1383732-997e-4945-d5bb-13058b687424"
      },
      "source": [
        "#MODEL GETS LESS ACCURATE WITH RUS, DO NOT USE RESAMPLE\n",
        "\n",
        "print(accuracy_score(y_test, rus_predictions))"
      ],
      "execution_count": 53,
      "outputs": [
        {
          "output_type": "stream",
          "text": [
            "0.7212307692307692\n"
          ],
          "name": "stdout"
        }
      ]
    },
    {
      "cell_type": "code",
      "metadata": {
        "id": "_304PNGxFvDc",
        "colab_type": "code",
        "colab": {
          "base_uri": "https://localhost:8080/",
          "height": 51
        },
        "outputId": "fb2b6e81-dd03-4f8f-8e82-2f00663b7b2f"
      },
      "source": [
        "#MODEL GETS LESS ACCURATE WITH CLUSTER CENTROID, DO NOT USE RESAMPLE\n",
        "\n",
        "from imblearn.under_sampling import ClusterCentroids\n",
        "cc = ClusterCentroids(random_state=1)\n",
        "X_resampled, y_resampled = cc.fit_resample(X_train, y_train)"
      ],
      "execution_count": 54,
      "outputs": [
        {
          "output_type": "stream",
          "text": [
            "/usr/local/lib/python3.6/dist-packages/sklearn/utils/deprecation.py:87: FutureWarning: Function safe_indexing is deprecated; safe_indexing is deprecated in version 0.22 and will be removed in version 0.24.\n",
            "  warnings.warn(msg, category=FutureWarning)\n"
          ],
          "name": "stderr"
        }
      ]
    },
    {
      "cell_type": "code",
      "metadata": {
        "id": "cedBgQHvtfLA",
        "colab_type": "code",
        "colab": {}
      },
      "source": [
        "#MODEL GETS LESS ACCURATE WITH CLUSTER CENTROID, DO NOT USE RESAMPLE\n",
        "\n",
        "\n",
        "pca = PCA(n_components=9)\n",
        "cls = LogisticRegression() \n",
        "pipe = Pipeline([('pca', pca), ('logistic', cls)])\n",
        "pipe.fit(X_resampled, y_resampled)\n",
        "cc_predictions = pipe.predict(X_test)"
      ],
      "execution_count": 55,
      "outputs": []
    },
    {
      "cell_type": "code",
      "metadata": {
        "id": "aStz4clau-hA",
        "colab_type": "code",
        "colab": {
          "base_uri": "https://localhost:8080/",
          "height": 34
        },
        "outputId": "fa3dc913-2661-47a4-d800-dfa1100ffb3a"
      },
      "source": [
        "#MODEL GETS LESS ACCURATE WITH CLUSTER CENTROID, DO NOT USE RESAMPLE\n",
        "\n",
        "print(accuracy_score(y_test, cc_predictions))"
      ],
      "execution_count": 56,
      "outputs": [
        {
          "output_type": "stream",
          "text": [
            "0.7163076923076923\n"
          ],
          "name": "stdout"
        }
      ]
    },
    {
      "cell_type": "code",
      "metadata": {
        "id": "NWEMV4sBvKjl",
        "colab_type": "code",
        "colab": {}
      },
      "source": [
        ""
      ],
      "execution_count": 56,
      "outputs": []
    },
    {
      "cell_type": "code",
      "metadata": {
        "id": "x7pzrXHKwMke",
        "colab_type": "code",
        "colab": {}
      },
      "source": [
        "\n"
      ],
      "execution_count": null,
      "outputs": []
    },
    {
      "cell_type": "code",
      "metadata": {
        "id": "pO2FnqTUxKJn",
        "colab_type": "code",
        "colab": {}
      },
      "source": [
        ""
      ],
      "execution_count": null,
      "outputs": []
    },
    {
      "cell_type": "code",
      "metadata": {
        "id": "S2mBEGPZyFZ-",
        "colab_type": "code",
        "colab": {}
      },
      "source": [
        ""
      ],
      "execution_count": null,
      "outputs": []
    }
  ]
}
